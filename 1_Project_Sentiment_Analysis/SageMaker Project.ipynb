{
 "cells": [
  {
   "cell_type": "markdown",
   "metadata": {},
   "source": [
    "# Creating a Sentiment Analysis Web App\n",
    "## Using PyTorch and SageMaker\n",
    "\n",
    "_Deep Learning Nanodegree Program | Deployment_\n",
    "\n",
    "---\n",
    "\n",
    "Now that we have a basic understanding of how SageMaker works we will try to use it to construct a complete project from end to end. Our goal will be to have a simple web page which a user can use to enter a movie review. The web page will then send the review off to our deployed model which will predict the sentiment of the entered review.\n",
    "\n",
    "## Instructions\n",
    "\n",
    "Some template code has already been provided for you, and you will need to implement additional functionality to successfully complete this notebook. You will not need to modify the included code beyond what is requested. Sections that begin with '**TODO**' in the header indicate that you need to complete or implement some portion within them. Instructions will be provided for each section and the specifics of the implementation are marked in the code block with a `# TODO: ...` comment. Please be sure to read the instructions carefully!\n",
    "\n",
    "In addition to implementing code, there will be questions for you to answer which relate to the task and your implementation. Each section where you will answer a question is preceded by a '**Question:**' header. Carefully read each question and provide your answer below the '**Answer:**' header by editing the Markdown cell.\n",
    "\n",
    "> **Note**: Code and Markdown cells can be executed using the **Shift+Enter** keyboard shortcut. In addition, a cell can be edited by typically clicking it (double-click for Markdown cells) or by pressing **Enter** while it is highlighted.\n",
    "\n",
    "## General Outline\n",
    "\n",
    "Recall the general outline for SageMaker projects using a notebook instance.\n",
    "\n",
    "1. Download or otherwise retrieve the data.\n",
    "2. Process / Prepare the data.\n",
    "3. Upload the processed data to S3.\n",
    "4. Train a chosen model.\n",
    "5. Test the trained model (typically using a batch transform job).\n",
    "6. Deploy the trained model.\n",
    "7. Use the deployed model.\n",
    "\n",
    "For this project, you will be following the steps in the general outline with some modifications. \n",
    "\n",
    "First, you will not be testing the model in its own step. You will still be testing the model, however, you will do it by deploying your model and then using the deployed model by sending the test data to it. One of the reasons for doing this is so that you can make sure that your deployed model is working correctly before moving forward.\n",
    "\n",
    "In addition, you will deploy and use your trained model a second time. In the second iteration you will customize the way that your trained model is deployed by including some of your own code. In addition, your newly deployed model will be used in the sentiment analysis web app."
   ]
  },
  {
   "cell_type": "code",
   "execution_count": 1,
   "metadata": {},
   "outputs": [
    {
     "name": "stdout",
     "output_type": "stream",
     "text": [
      "Collecting sagemaker==1.72.0\n",
      "  Downloading sagemaker-1.72.0.tar.gz (297 kB)\n",
      "\u001b[K     |████████████████████████████████| 297 kB 28.5 MB/s eta 0:00:01\n",
      "\u001b[?25hRequirement already satisfied: boto3>=1.14.12 in /home/ec2-user/anaconda3/envs/pytorch_p36/lib/python3.6/site-packages (from sagemaker==1.72.0) (1.17.100)\n",
      "Requirement already satisfied: numpy>=1.9.0 in /home/ec2-user/anaconda3/envs/pytorch_p36/lib/python3.6/site-packages (from sagemaker==1.72.0) (1.19.5)\n",
      "Requirement already satisfied: protobuf>=3.1 in /home/ec2-user/anaconda3/envs/pytorch_p36/lib/python3.6/site-packages (from sagemaker==1.72.0) (3.15.2)\n",
      "Requirement already satisfied: scipy>=0.19.0 in /home/ec2-user/anaconda3/envs/pytorch_p36/lib/python3.6/site-packages (from sagemaker==1.72.0) (1.5.3)\n",
      "Requirement already satisfied: protobuf3-to-dict>=0.1.5 in /home/ec2-user/anaconda3/envs/pytorch_p36/lib/python3.6/site-packages (from sagemaker==1.72.0) (0.1.5)\n",
      "Collecting smdebug-rulesconfig==0.1.4\n",
      "  Downloading smdebug_rulesconfig-0.1.4-py2.py3-none-any.whl (10 kB)\n",
      "Requirement already satisfied: importlib-metadata>=1.4.0 in /home/ec2-user/anaconda3/envs/pytorch_p36/lib/python3.6/site-packages (from sagemaker==1.72.0) (3.7.0)\n",
      "Requirement already satisfied: packaging>=20.0 in /home/ec2-user/anaconda3/envs/pytorch_p36/lib/python3.6/site-packages (from sagemaker==1.72.0) (20.9)\n",
      "Requirement already satisfied: s3transfer<0.5.0,>=0.4.0 in /home/ec2-user/anaconda3/envs/pytorch_p36/lib/python3.6/site-packages (from boto3>=1.14.12->sagemaker==1.72.0) (0.4.2)\n",
      "Requirement already satisfied: jmespath<1.0.0,>=0.7.1 in /home/ec2-user/anaconda3/envs/pytorch_p36/lib/python3.6/site-packages (from boto3>=1.14.12->sagemaker==1.72.0) (0.10.0)\n",
      "Requirement already satisfied: botocore<1.21.0,>=1.20.100 in /home/ec2-user/anaconda3/envs/pytorch_p36/lib/python3.6/site-packages (from boto3>=1.14.12->sagemaker==1.72.0) (1.20.100)\n",
      "Requirement already satisfied: urllib3<1.27,>=1.25.4 in /home/ec2-user/anaconda3/envs/pytorch_p36/lib/python3.6/site-packages (from botocore<1.21.0,>=1.20.100->boto3>=1.14.12->sagemaker==1.72.0) (1.26.5)\n",
      "Requirement already satisfied: python-dateutil<3.0.0,>=2.1 in /home/ec2-user/anaconda3/envs/pytorch_p36/lib/python3.6/site-packages (from botocore<1.21.0,>=1.20.100->boto3>=1.14.12->sagemaker==1.72.0) (2.8.1)\n",
      "Requirement already satisfied: typing-extensions>=3.6.4 in /home/ec2-user/anaconda3/envs/pytorch_p36/lib/python3.6/site-packages (from importlib-metadata>=1.4.0->sagemaker==1.72.0) (3.7.4.3)\n",
      "Requirement already satisfied: zipp>=0.5 in /home/ec2-user/anaconda3/envs/pytorch_p36/lib/python3.6/site-packages (from importlib-metadata>=1.4.0->sagemaker==1.72.0) (3.4.0)\n",
      "Requirement already satisfied: pyparsing>=2.0.2 in /home/ec2-user/anaconda3/envs/pytorch_p36/lib/python3.6/site-packages (from packaging>=20.0->sagemaker==1.72.0) (2.4.7)\n",
      "Requirement already satisfied: six>=1.9 in /home/ec2-user/anaconda3/envs/pytorch_p36/lib/python3.6/site-packages (from protobuf>=3.1->sagemaker==1.72.0) (1.15.0)\n",
      "Building wheels for collected packages: sagemaker\n",
      "  Building wheel for sagemaker (setup.py) ... \u001b[?25ldone\n",
      "\u001b[?25h  Created wheel for sagemaker: filename=sagemaker-1.72.0-py2.py3-none-any.whl size=386358 sha256=495248bbef09177b61a6eca9b1a6229ae7c4436df40573eb133936e29258db31\n",
      "  Stored in directory: /home/ec2-user/.cache/pip/wheels/c3/58/70/85faf4437568bfaa4c419937569ba1fe54d44c5db42406bbd7\n",
      "Successfully built sagemaker\n",
      "Installing collected packages: smdebug-rulesconfig, sagemaker\n",
      "  Attempting uninstall: smdebug-rulesconfig\n",
      "    Found existing installation: smdebug-rulesconfig 1.0.1\n",
      "    Uninstalling smdebug-rulesconfig-1.0.1:\n",
      "      Successfully uninstalled smdebug-rulesconfig-1.0.1\n",
      "  Attempting uninstall: sagemaker\n",
      "    Found existing installation: sagemaker 2.45.0\n",
      "    Uninstalling sagemaker-2.45.0:\n",
      "      Successfully uninstalled sagemaker-2.45.0\n",
      "Successfully installed sagemaker-1.72.0 smdebug-rulesconfig-0.1.4\n",
      "\u001b[33mWARNING: You are using pip version 21.1.2; however, version 21.2.4 is available.\n",
      "You should consider upgrading via the '/home/ec2-user/anaconda3/envs/pytorch_p36/bin/python -m pip install --upgrade pip' command.\u001b[0m\n"
     ]
    }
   ],
   "source": [
    "# Make sure that we use SageMaker 1.x\n",
    "!pip install sagemaker==1.72.0"
   ]
  },
  {
   "cell_type": "markdown",
   "metadata": {},
   "source": [
    "## Step 1: Downloading the data\n",
    "\n",
    "As in the XGBoost in SageMaker notebook, we will be using the [IMDb dataset](http://ai.stanford.edu/~amaas/data/sentiment/)\n",
    "\n",
    "> Maas, Andrew L., et al. [Learning Word Vectors for Sentiment Analysis](http://ai.stanford.edu/~amaas/data/sentiment/). In _Proceedings of the 49th Annual Meeting of the Association for Computational Linguistics: Human Language Technologies_. Association for Computational Linguistics, 2011."
   ]
  },
  {
   "cell_type": "code",
   "execution_count": 2,
   "metadata": {},
   "outputs": [
    {
     "name": "stdout",
     "output_type": "stream",
     "text": [
      "mkdir: cannot create directory ‘../data’: File exists\n",
      "--2021-08-14 07:39:55--  http://ai.stanford.edu/~amaas/data/sentiment/aclImdb_v1.tar.gz\n",
      "Resolving ai.stanford.edu (ai.stanford.edu)... 171.64.68.10\n",
      "Connecting to ai.stanford.edu (ai.stanford.edu)|171.64.68.10|:80... connected.\n",
      "HTTP request sent, awaiting response... 200 OK\n",
      "Length: 84125825 (80M) [application/x-gzip]\n",
      "Saving to: ‘../data/aclImdb_v1.tar.gz’\n",
      "\n",
      "../data/aclImdb_v1. 100%[===================>]  80.23M  10.6MB/s    in 9.4s    \n",
      "\n",
      "2021-08-14 07:40:04 (8.57 MB/s) - ‘../data/aclImdb_v1.tar.gz’ saved [84125825/84125825]\n",
      "\n"
     ]
    }
   ],
   "source": [
    "%mkdir ../data\n",
    "!wget -O ../data/aclImdb_v1.tar.gz http://ai.stanford.edu/~amaas/data/sentiment/aclImdb_v1.tar.gz\n",
    "!tar -zxf ../data/aclImdb_v1.tar.gz -C ../data"
   ]
  },
  {
   "cell_type": "markdown",
   "metadata": {},
   "source": [
    "## Step 2: Preparing and Processing the data\n",
    "\n",
    "Also, as in the XGBoost notebook, we will be doing some initial data processing. The first few steps are the same as in the XGBoost example. To begin with, we will read in each of the reviews and combine them into a single input structure. Then, we will split the dataset into a training set and a testing set."
   ]
  },
  {
   "cell_type": "code",
   "execution_count": 3,
   "metadata": {},
   "outputs": [],
   "source": [
    "import os\n",
    "import glob\n",
    "\n",
    "def read_imdb_data(data_dir='../data/aclImdb'):\n",
    "    data = {}\n",
    "    labels = {}\n",
    "    \n",
    "    for data_type in ['train', 'test']:\n",
    "        data[data_type] = {}\n",
    "        labels[data_type] = {}\n",
    "        \n",
    "        for sentiment in ['pos', 'neg']:\n",
    "            data[data_type][sentiment] = []\n",
    "            labels[data_type][sentiment] = []\n",
    "            \n",
    "            path = os.path.join(data_dir, data_type, sentiment, '*.txt')\n",
    "            files = glob.glob(path)\n",
    "            \n",
    "            for f in files:\n",
    "                with open(f) as review:\n",
    "                    data[data_type][sentiment].append(review.read())\n",
    "                    # Here we represent a positive review by '1' and a negative review by '0'\n",
    "                    labels[data_type][sentiment].append(1 if sentiment == 'pos' else 0)\n",
    "                    \n",
    "            assert len(data[data_type][sentiment]) == len(labels[data_type][sentiment]), \\\n",
    "                    \"{}/{} data size does not match labels size\".format(data_type, sentiment)\n",
    "                \n",
    "    return data, labels"
   ]
  },
  {
   "cell_type": "code",
   "execution_count": 4,
   "metadata": {},
   "outputs": [
    {
     "name": "stdout",
     "output_type": "stream",
     "text": [
      "IMDB reviews: train = 12500 pos / 12500 neg, test = 12500 pos / 12500 neg\n"
     ]
    }
   ],
   "source": [
    "data, labels = read_imdb_data()\n",
    "print(\"IMDB reviews: train = {} pos / {} neg, test = {} pos / {} neg\".format(\n",
    "            len(data['train']['pos']), len(data['train']['neg']),\n",
    "            len(data['test']['pos']), len(data['test']['neg'])))"
   ]
  },
  {
   "cell_type": "markdown",
   "metadata": {},
   "source": [
    "Now that we've read the raw training and testing data from the downloaded dataset, we will combine the positive and negative reviews and shuffle the resulting records."
   ]
  },
  {
   "cell_type": "code",
   "execution_count": 5,
   "metadata": {},
   "outputs": [],
   "source": [
    "from sklearn.utils import shuffle\n",
    "\n",
    "def prepare_imdb_data(data, labels):\n",
    "    \"\"\"Prepare training and test sets from IMDb movie reviews.\"\"\"\n",
    "    \n",
    "    #Combine positive and negative reviews and labels\n",
    "    data_train = data['train']['pos'] + data['train']['neg']\n",
    "    data_test = data['test']['pos'] + data['test']['neg']\n",
    "    labels_train = labels['train']['pos'] + labels['train']['neg']\n",
    "    labels_test = labels['test']['pos'] + labels['test']['neg']\n",
    "    \n",
    "    #Shuffle reviews and corresponding labels within training and test sets\n",
    "    data_train, labels_train = shuffle(data_train, labels_train)\n",
    "    data_test, labels_test = shuffle(data_test, labels_test)\n",
    "    \n",
    "    # Return a unified training data, test data, training labels, test labets\n",
    "    return data_train, data_test, labels_train, labels_test"
   ]
  },
  {
   "cell_type": "code",
   "execution_count": 6,
   "metadata": {},
   "outputs": [
    {
     "name": "stdout",
     "output_type": "stream",
     "text": [
      "IMDb reviews (combined): train = 25000, test = 25000\n"
     ]
    }
   ],
   "source": [
    "train_X, test_X, train_y, test_y = prepare_imdb_data(data, labels)\n",
    "print(\"IMDb reviews (combined): train = {}, test = {}\".format(len(train_X), len(test_X)))"
   ]
  },
  {
   "cell_type": "markdown",
   "metadata": {},
   "source": [
    "Now that we have our training and testing sets unified and prepared, we should do a quick check and see an example of the data our model will be trained on. This is generally a good idea as it allows you to see how each of the further processing steps affects the reviews and it also ensures that the data has been loaded correctly."
   ]
  },
  {
   "cell_type": "code",
   "execution_count": 7,
   "metadata": {},
   "outputs": [
    {
     "name": "stdout",
     "output_type": "stream",
     "text": [
      "This movie reminds me of \"Irréversible (2002)\", another art-work movie with is a violent and radical approach of human nature. I did not like the movie but I cannot say that it is a bad movie, it is just special. I reminds me also of \"Camping Cosmos (1996)\" where a bunch of low-class figures are residents of a camp at the sea in Belgium. The same description of people living together, side by side against their wills and with all the confrontation of characters that do not match together. I also thought about the books by the French writer Emile Zola who was a writer of the style that is naturalism. I did not like the movie and I also do not like the people who are in it. They all seem so vulgar, without any basic good taste. One could ask the question why do they live, they all seem to be on this planet a a member of a big farce, forced to live against their will. Or you could say: the hell is on this world.\n",
      "0\n"
     ]
    }
   ],
   "source": [
    "print(train_X[100])\n",
    "print(train_y[100])"
   ]
  },
  {
   "cell_type": "markdown",
   "metadata": {},
   "source": [
    "The first step in processing the reviews is to make sure that any html tags that appear should be removed. In addition we wish to tokenize our input, that way words such as *entertained* and *entertaining* are considered the same with regard to sentiment analysis."
   ]
  },
  {
   "cell_type": "code",
   "execution_count": 8,
   "metadata": {},
   "outputs": [],
   "source": [
    "import nltk\n",
    "from nltk.corpus import stopwords\n",
    "from nltk.stem.porter import *\n",
    "\n",
    "import re\n",
    "from bs4 import BeautifulSoup\n",
    "\n",
    "def review_to_words(review):\n",
    "    nltk.download(\"stopwords\", quiet=True)\n",
    "    stemmer = PorterStemmer()\n",
    "    \n",
    "    text = BeautifulSoup(review, \"html.parser\").get_text() # Remove HTML tags\n",
    "    text = re.sub(r\"[^a-zA-Z0-9]\", \" \", text.lower()) # Convert to lower case\n",
    "    words = text.split() # Split string into words\n",
    "    words = [w for w in words if w not in stopwords.words(\"english\")] # Remove stopwords\n",
    "    words = [PorterStemmer().stem(w) for w in words] # stem\n",
    "    \n",
    "    return words"
   ]
  },
  {
   "cell_type": "markdown",
   "metadata": {},
   "source": [
    "The `review_to_words` method defined above uses `BeautifulSoup` to remove any html tags that appear and uses the `nltk` package to tokenize the reviews. As a check to ensure we know how everything is working, try applying `review_to_words` to one of the reviews in the training set."
   ]
  },
  {
   "cell_type": "code",
   "execution_count": 9,
   "metadata": {},
   "outputs": [
    {
     "data": {
      "text/plain": [
       "['movi',\n",
       " 'remind',\n",
       " 'irr',\n",
       " 'versibl',\n",
       " '2002',\n",
       " 'anoth',\n",
       " 'art',\n",
       " 'work',\n",
       " 'movi',\n",
       " 'violent',\n",
       " 'radic',\n",
       " 'approach',\n",
       " 'human',\n",
       " 'natur',\n",
       " 'like',\n",
       " 'movi',\n",
       " 'cannot',\n",
       " 'say',\n",
       " 'bad',\n",
       " 'movi',\n",
       " 'special',\n",
       " 'remind',\n",
       " 'also',\n",
       " 'camp',\n",
       " 'cosmo',\n",
       " '1996',\n",
       " 'bunch',\n",
       " 'low',\n",
       " 'class',\n",
       " 'figur',\n",
       " 'resid',\n",
       " 'camp',\n",
       " 'sea',\n",
       " 'belgium',\n",
       " 'descript',\n",
       " 'peopl',\n",
       " 'live',\n",
       " 'togeth',\n",
       " 'side',\n",
       " 'side',\n",
       " 'will',\n",
       " 'confront',\n",
       " 'charact',\n",
       " 'match',\n",
       " 'togeth',\n",
       " 'also',\n",
       " 'thought',\n",
       " 'book',\n",
       " 'french',\n",
       " 'writer',\n",
       " 'emil',\n",
       " 'zola',\n",
       " 'writer',\n",
       " 'style',\n",
       " 'natur',\n",
       " 'like',\n",
       " 'movi',\n",
       " 'also',\n",
       " 'like',\n",
       " 'peopl',\n",
       " 'seem',\n",
       " 'vulgar',\n",
       " 'without',\n",
       " 'basic',\n",
       " 'good',\n",
       " 'tast',\n",
       " 'one',\n",
       " 'could',\n",
       " 'ask',\n",
       " 'question',\n",
       " 'live',\n",
       " 'seem',\n",
       " 'planet',\n",
       " 'member',\n",
       " 'big',\n",
       " 'farc',\n",
       " 'forc',\n",
       " 'live',\n",
       " 'could',\n",
       " 'say',\n",
       " 'hell',\n",
       " 'world']"
      ]
     },
     "execution_count": 9,
     "metadata": {},
     "output_type": "execute_result"
    }
   ],
   "source": [
    "# TODO: Apply review_to_words to a review (train_X[100] or any other review)\n",
    "review_to_words(train_X[100])"
   ]
  },
  {
   "cell_type": "markdown",
   "metadata": {},
   "source": [
    "**Question:** Above we mentioned that `review_to_words` method removes html formatting and allows us to tokenize the words found in a review, for example, converting *entertained* and *entertaining* into *entertain* so that they are treated as though they are the same word. What else, if anything, does this method do to the input?"
   ]
  },
  {
   "cell_type": "markdown",
   "metadata": {},
   "source": [
    "**Answer:** The method `review_to_words` additionally removes punctuation, the stopwords, and converts all letters to lowercase."
   ]
  },
  {
   "cell_type": "markdown",
   "metadata": {},
   "source": [
    "The method below applies the `review_to_words` method to each of the reviews in the training and testing datasets. In addition it caches the results. This is because performing this processing step can take a long time. This way if you are unable to complete the notebook in the current session, you can come back without needing to process the data a second time."
   ]
  },
  {
   "cell_type": "code",
   "execution_count": 10,
   "metadata": {},
   "outputs": [],
   "source": [
    "import pickle\n",
    "\n",
    "cache_dir = os.path.join(\"../cache\", \"sentiment_analysis\")  # where to store cache files\n",
    "os.makedirs(cache_dir, exist_ok=True)  # ensure cache directory exists\n",
    "\n",
    "def preprocess_data(data_train, data_test, labels_train, labels_test,\n",
    "                    cache_dir=cache_dir, cache_file=\"preprocessed_data.pkl\"):\n",
    "    \"\"\"Convert each review to words; read from cache if available.\"\"\"\n",
    "\n",
    "    # If cache_file is not None, try to read from it first\n",
    "    cache_data = None\n",
    "    if cache_file is not None:\n",
    "        try:\n",
    "            with open(os.path.join(cache_dir, cache_file), \"rb\") as f:\n",
    "                cache_data = pickle.load(f)\n",
    "            print(\"Read preprocessed data from cache file:\", cache_file)\n",
    "        except:\n",
    "            pass  # unable to read from cache, but that's okay\n",
    "    \n",
    "    # If cache is missing, then do the heavy lifting\n",
    "    if cache_data is None:\n",
    "        # Preprocess training and test data to obtain words for each review\n",
    "        #words_train = list(map(review_to_words, data_train))\n",
    "        #words_test = list(map(review_to_words, data_test))\n",
    "        words_train = [review_to_words(review) for review in data_train]\n",
    "        words_test = [review_to_words(review) for review in data_test]\n",
    "        \n",
    "        # Write to cache file for future runs\n",
    "        if cache_file is not None:\n",
    "            cache_data = dict(words_train=words_train, words_test=words_test,\n",
    "                              labels_train=labels_train, labels_test=labels_test)\n",
    "            with open(os.path.join(cache_dir, cache_file), \"wb\") as f:\n",
    "                pickle.dump(cache_data, f)\n",
    "            print(\"Wrote preprocessed data to cache file:\", cache_file)\n",
    "    else:\n",
    "        # Unpack data loaded from cache file\n",
    "        words_train, words_test, labels_train, labels_test = (cache_data['words_train'],\n",
    "                cache_data['words_test'], cache_data['labels_train'], cache_data['labels_test'])\n",
    "    \n",
    "    return words_train, words_test, labels_train, labels_test"
   ]
  },
  {
   "cell_type": "code",
   "execution_count": 11,
   "metadata": {},
   "outputs": [
    {
     "name": "stdout",
     "output_type": "stream",
     "text": [
      "Read preprocessed data from cache file: preprocessed_data.pkl\n"
     ]
    }
   ],
   "source": [
    "# Preprocess data\n",
    "train_X, test_X, train_y, test_y = preprocess_data(train_X, test_X, train_y, test_y)"
   ]
  },
  {
   "cell_type": "markdown",
   "metadata": {},
   "source": [
    "## Transform the data\n",
    "\n",
    "In the XGBoost notebook we transformed the data from its word representation to a bag-of-words feature representation. For the model we are going to construct in this notebook we will construct a feature representation which is very similar. To start, we will represent each word as an integer. Of course, some of the words that appear in the reviews occur very infrequently and so likely don't contain much information for the purposes of sentiment analysis. The way we will deal with this problem is that we will fix the size of our working vocabulary and we will only include the words that appear most frequently. We will then combine all of the infrequent words into a single category and, in our case, we will label it as `1`.\n",
    "\n",
    "Since we will be using a recurrent neural network, it will be convenient if the length of each review is the same. To do this, we will fix a size for our reviews and then pad short reviews with the category 'no word' (which we will label `0`) and truncate long reviews."
   ]
  },
  {
   "cell_type": "markdown",
   "metadata": {},
   "source": [
    "### (TODO) Create a word dictionary\n",
    "\n",
    "To begin with, we need to construct a way to map words that appear in the reviews to integers. Here we fix the size of our vocabulary (including the 'no word' and 'infrequent' categories) to be `5000` but you may wish to change this to see how it affects the model.\n",
    "\n",
    "> **TODO:** Complete the implementation for the `build_dict()` method below. Note that even though the vocab_size is set to `5000`, we only want to construct a mapping for the most frequently appearing `4998` words. This is because we want to reserve the special labels `0` for 'no word' and `1` for 'infrequent word'."
   ]
  },
  {
   "cell_type": "code",
   "execution_count": 12,
   "metadata": {},
   "outputs": [],
   "source": [
    "import numpy as np\n",
    "from collections import Counter\n",
    "    \n",
    "def build_dict(data, vocab_size = 5000):\n",
    "    \"\"\"Construct and return a dictionary mapping each of the most frequently appearing words to a unique integer.\"\"\"\n",
    "    \n",
    "    # TODO: Determine how often each word appears in `data`. Note that `data` is a list of sentences and that a\n",
    "    #       sentence is a list of words.\n",
    "    \n",
    "    word_count = {} # A dict storing the words that appear in the reviews along with how often they occur\n",
    "    word_count = dict(Counter(word for review in data for word in review))\n",
    "    \n",
    "    # TODO: Sort the words found in `data` so that sorted_words[0] is the most frequently appearing word and\n",
    "    #       sorted_words[-1] is the least frequently appearing word.\n",
    "    \n",
    "    sorted_words = sorted(word_count, key=word_count.get, reverse=True)\n",
    "    \n",
    "    word_dict = {} # This is what we are building, a dictionary that translates words into integers\n",
    "    for idx, word in enumerate(sorted_words[:vocab_size - 2]): # The -2 is so that we save room for the 'no word'\n",
    "        word_dict[word] = idx + 2                              # 'infrequent' labels\n",
    "        \n",
    "    return word_dict"
   ]
  },
  {
   "cell_type": "code",
   "execution_count": 13,
   "metadata": {},
   "outputs": [],
   "source": [
    "word_dict = build_dict(train_X)"
   ]
  },
  {
   "cell_type": "markdown",
   "metadata": {},
   "source": [
    "**Question:** What are the five most frequently appearing (tokenized) words in the training set? Does it makes sense that these words appear frequently in the training set?"
   ]
  },
  {
   "cell_type": "markdown",
   "metadata": {},
   "source": [
    "**Answer:** The five most frequent words are 'movi', 'film', 'one', 'like', and 'time'."
   ]
  },
  {
   "cell_type": "code",
   "execution_count": 14,
   "metadata": {},
   "outputs": [
    {
     "data": {
      "text/plain": [
       "['movi', 'film', 'one', 'like', 'time']"
      ]
     },
     "execution_count": 14,
     "metadata": {},
     "output_type": "execute_result"
    }
   ],
   "source": [
    "# TODO: Use this space to determine the five most frequently appearing words in the training set.\n",
    "[word for word, idx in word_dict.items() if idx < (5+2)]"
   ]
  },
  {
   "cell_type": "markdown",
   "metadata": {},
   "source": [
    "### Save `word_dict`\n",
    "\n",
    "Later on when we construct an endpoint which processes a submitted review we will need to make use of the `word_dict` which we have created. As such, we will save it to a file now for future use."
   ]
  },
  {
   "cell_type": "code",
   "execution_count": 15,
   "metadata": {},
   "outputs": [],
   "source": [
    "data_dir = '../data/pytorch' # The folder we will use for storing data\n",
    "if not os.path.exists(data_dir): # Make sure that the folder exists\n",
    "    os.makedirs(data_dir)"
   ]
  },
  {
   "cell_type": "code",
   "execution_count": 16,
   "metadata": {},
   "outputs": [],
   "source": [
    "with open(os.path.join(data_dir, 'word_dict.pkl'), \"wb\") as f:\n",
    "    pickle.dump(word_dict, f)"
   ]
  },
  {
   "cell_type": "markdown",
   "metadata": {},
   "source": [
    "### Transform the reviews\n",
    "\n",
    "Now that we have our word dictionary which allows us to transform the words appearing in the reviews into integers, it is time to make use of it and convert our reviews to their integer sequence representation, making sure to pad or truncate to a fixed length, which in our case is `500`."
   ]
  },
  {
   "cell_type": "code",
   "execution_count": 17,
   "metadata": {},
   "outputs": [],
   "source": [
    "def convert_and_pad(word_dict, sentence, pad=500):\n",
    "    NOWORD = 0 # We will use 0 to represent the 'no word' category\n",
    "    INFREQ = 1 # and we use 1 to represent the infrequent words, i.e., words not appearing in word_dict\n",
    "    \n",
    "    working_sentence = [NOWORD] * pad\n",
    "    \n",
    "    for word_index, word in enumerate(sentence[:pad]):\n",
    "        if word in word_dict:\n",
    "            working_sentence[word_index] = word_dict[word]\n",
    "        else:\n",
    "            working_sentence[word_index] = INFREQ\n",
    "            \n",
    "    return working_sentence, min(len(sentence), pad)\n",
    "\n",
    "def convert_and_pad_data(word_dict, data, pad=500):\n",
    "    result = []\n",
    "    lengths = []\n",
    "    \n",
    "    for sentence in data:\n",
    "        converted, leng = convert_and_pad(word_dict, sentence, pad)\n",
    "        result.append(converted)\n",
    "        lengths.append(leng)\n",
    "        \n",
    "    return np.array(result), np.array(lengths)"
   ]
  },
  {
   "cell_type": "code",
   "execution_count": 18,
   "metadata": {},
   "outputs": [],
   "source": [
    "train_X, train_X_len = convert_and_pad_data(word_dict, train_X)\n",
    "test_X, test_X_len = convert_and_pad_data(word_dict, test_X)"
   ]
  },
  {
   "cell_type": "markdown",
   "metadata": {},
   "source": [
    "As a quick check to make sure that things are working as intended, check to see what one of the reviews in the training set looks like after having been processeed. Does this look reasonable? What is the length of a review in the training set?"
   ]
  },
  {
   "cell_type": "code",
   "execution_count": 19,
   "metadata": {},
   "outputs": [
    {
     "data": {
      "text/plain": [
       "array([ 796,   45,  114,   31,    1, 1763,   11,    2,  568,   64,   52,\n",
       "          1,  468,    4,   91,  876, 3296,    1,  954, 1339,  322, 1858,\n",
       "       2471, 2103,   37,    2, 1441,  840, 1953,   49,    6, 1340,   12,\n",
       "          2,  298, 1352,   46,   29,    6,  486, 3401,  141,    8,  176,\n",
       "        672, 2529,  857,  678, 3464,  176,    2,   54, 1436,  894,  629,\n",
       "       1242,  363,  976,  467, 1102,    6,  145, 2992,   83,    0,    0,\n",
       "          0,    0,    0,    0,    0,    0,    0,    0,    0,    0,    0,\n",
       "          0,    0,    0,    0,    0,    0,    0,    0,    0,    0,    0,\n",
       "          0,    0,    0,    0,    0,    0,    0,    0,    0,    0,    0,\n",
       "          0,    0,    0,    0,    0,    0,    0,    0,    0,    0,    0,\n",
       "          0,    0,    0,    0,    0,    0,    0,    0,    0,    0,    0,\n",
       "          0,    0,    0,    0,    0,    0,    0,    0,    0,    0,    0,\n",
       "          0,    0,    0,    0,    0,    0,    0,    0,    0,    0,    0,\n",
       "          0,    0,    0,    0,    0,    0,    0,    0,    0,    0,    0,\n",
       "          0,    0,    0,    0,    0,    0,    0,    0,    0,    0,    0,\n",
       "          0,    0,    0,    0,    0,    0,    0,    0,    0,    0,    0,\n",
       "          0,    0,    0,    0,    0,    0,    0,    0,    0,    0,    0,\n",
       "          0,    0,    0,    0,    0,    0,    0,    0,    0,    0,    0,\n",
       "          0,    0,    0,    0,    0,    0,    0,    0,    0,    0,    0,\n",
       "          0,    0,    0,    0,    0,    0,    0,    0,    0,    0,    0,\n",
       "          0,    0,    0,    0,    0,    0,    0,    0,    0,    0,    0,\n",
       "          0,    0,    0,    0,    0,    0,    0,    0,    0,    0,    0,\n",
       "          0,    0,    0,    0,    0,    0,    0,    0,    0,    0,    0,\n",
       "          0,    0,    0,    0,    0,    0,    0,    0,    0,    0,    0,\n",
       "          0,    0,    0,    0,    0,    0,    0,    0,    0,    0,    0,\n",
       "          0,    0,    0,    0,    0,    0,    0,    0,    0,    0,    0,\n",
       "          0,    0,    0,    0,    0,    0,    0,    0,    0,    0,    0,\n",
       "          0,    0,    0,    0,    0,    0,    0,    0,    0,    0,    0,\n",
       "          0,    0,    0,    0,    0,    0,    0,    0,    0,    0,    0,\n",
       "          0,    0,    0,    0,    0,    0,    0,    0,    0,    0,    0,\n",
       "          0,    0,    0,    0,    0,    0,    0,    0,    0,    0,    0,\n",
       "          0,    0,    0,    0,    0,    0,    0,    0,    0,    0,    0,\n",
       "          0,    0,    0,    0,    0,    0,    0,    0,    0,    0,    0,\n",
       "          0,    0,    0,    0,    0,    0,    0,    0,    0,    0,    0,\n",
       "          0,    0,    0,    0,    0,    0,    0,    0,    0,    0,    0,\n",
       "          0,    0,    0,    0,    0,    0,    0,    0,    0,    0,    0,\n",
       "          0,    0,    0,    0,    0,    0,    0,    0,    0,    0,    0,\n",
       "          0,    0,    0,    0,    0,    0,    0,    0,    0,    0,    0,\n",
       "          0,    0,    0,    0,    0,    0,    0,    0,    0,    0,    0,\n",
       "          0,    0,    0,    0,    0,    0,    0,    0,    0,    0,    0,\n",
       "          0,    0,    0,    0,    0,    0,    0,    0,    0,    0,    0,\n",
       "          0,    0,    0,    0,    0,    0,    0,    0,    0,    0,    0,\n",
       "          0,    0,    0,    0,    0,    0,    0,    0,    0,    0,    0,\n",
       "          0,    0,    0,    0,    0,    0,    0,    0,    0,    0,    0,\n",
       "          0,    0,    0,    0,    0,    0,    0,    0,    0,    0,    0,\n",
       "          0,    0,    0,    0,    0])"
      ]
     },
     "execution_count": 19,
     "metadata": {},
     "output_type": "execute_result"
    }
   ],
   "source": [
    "# Use this cell to examine one of the processed reviews to make sure everything is working as intended.\n",
    "train_X[5]"
   ]
  },
  {
   "cell_type": "markdown",
   "metadata": {},
   "source": [
    "**Question:** In the cells above we use the `preprocess_data` and `convert_and_pad_data` methods to process both the training and testing set. Why or why not might this be a problem?"
   ]
  },
  {
   "cell_type": "markdown",
   "metadata": {},
   "source": [
    "**Answer:** preprocess_data applies to each review within the training and testing data set, which is very time consuming. Convert_and_pad_data converts the training data to have the same length, in our case is 500. The downside is that it can lead to a loss of information."
   ]
  },
  {
   "cell_type": "markdown",
   "metadata": {},
   "source": [
    "## Step 3: Upload the data to S3\n",
    "\n",
    "As in the XGBoost notebook, we will need to upload the training dataset to S3 in order for our training code to access it. For now we will save it locally and we will upload to S3 later on.\n",
    "\n",
    "### Save the processed training dataset locally\n",
    "\n",
    "It is important to note the format of the data that we are saving as we will need to know it when we write the training code. In our case, each row of the dataset has the form `label`, `length`, `review[500]` where `review[500]` is a sequence of `500` integers representing the words in the review."
   ]
  },
  {
   "cell_type": "code",
   "execution_count": 20,
   "metadata": {},
   "outputs": [],
   "source": [
    "import pandas as pd\n",
    "    \n",
    "pd.concat([pd.DataFrame(train_y), pd.DataFrame(train_X_len), pd.DataFrame(train_X)], axis=1) \\\n",
    "        .to_csv(os.path.join(data_dir, 'train.csv'), header=False, index=False)"
   ]
  },
  {
   "cell_type": "markdown",
   "metadata": {},
   "source": [
    "### Uploading the training data\n",
    "\n",
    "\n",
    "Next, we need to upload the training data to the SageMaker default S3 bucket so that we can provide access to it while training our model."
   ]
  },
  {
   "cell_type": "code",
   "execution_count": 21,
   "metadata": {},
   "outputs": [],
   "source": [
    "import sagemaker\n",
    "\n",
    "sagemaker_session = sagemaker.Session()\n",
    "\n",
    "bucket = sagemaker_session.default_bucket()\n",
    "prefix = 'sagemaker/sentiment_rnn'\n",
    "\n",
    "role = sagemaker.get_execution_role()"
   ]
  },
  {
   "cell_type": "code",
   "execution_count": 22,
   "metadata": {},
   "outputs": [],
   "source": [
    "input_data = sagemaker_session.upload_data(path=data_dir, bucket=bucket, key_prefix=prefix)"
   ]
  },
  {
   "cell_type": "markdown",
   "metadata": {},
   "source": [
    "**NOTE:** The cell above uploads the entire contents of our data directory. This includes the `word_dict.pkl` file. This is fortunate as we will need this later on when we create an endpoint that accepts an arbitrary review. For now, we will just take note of the fact that it resides in the data directory (and so also in the S3 training bucket) and that we will need to make sure it gets saved in the model directory."
   ]
  },
  {
   "cell_type": "markdown",
   "metadata": {},
   "source": [
    "## Step 4: Build and Train the PyTorch Model\n",
    "\n",
    "In the XGBoost notebook we discussed what a model is in the SageMaker framework. In particular, a model comprises three objects\n",
    "\n",
    " - Model Artifacts,\n",
    " - Training Code, and\n",
    " - Inference Code,\n",
    " \n",
    "each of which interact with one another. In the XGBoost example we used training and inference code that was provided by Amazon. Here we will still be using containers provided by Amazon with the added benefit of being able to include our own custom code.\n",
    "\n",
    "We will start by implementing our own neural network in PyTorch along with a training script. For the purposes of this project we have provided the necessary model object in the `model.py` file, inside of the `train` folder. You can see the provided implementation by running the cell below."
   ]
  },
  {
   "cell_type": "code",
   "execution_count": 23,
   "metadata": {},
   "outputs": [
    {
     "name": "stdout",
     "output_type": "stream",
     "text": [
      "\u001b[34mimport\u001b[39;49;00m \u001b[04m\u001b[36mtorch\u001b[39;49;00m\u001b[04m\u001b[36m.\u001b[39;49;00m\u001b[04m\u001b[36mnn\u001b[39;49;00m \u001b[34mas\u001b[39;49;00m \u001b[04m\u001b[36mnn\u001b[39;49;00m\n",
      "\n",
      "\u001b[34mclass\u001b[39;49;00m \u001b[04m\u001b[32mLSTMClassifier\u001b[39;49;00m(nn.Module):\n",
      "    \u001b[33m\"\"\"\u001b[39;49;00m\n",
      "\u001b[33m    This is the simple RNN model we will be using to perform Sentiment Analysis.\u001b[39;49;00m\n",
      "\u001b[33m    \"\"\"\u001b[39;49;00m\n",
      "\n",
      "    \u001b[34mdef\u001b[39;49;00m \u001b[32m__init__\u001b[39;49;00m(\u001b[36mself\u001b[39;49;00m, embedding_dim, hidden_dim, vocab_size):\n",
      "        \u001b[33m\"\"\"\u001b[39;49;00m\n",
      "\u001b[33m        Initialize the model by settingg up the various layers.\u001b[39;49;00m\n",
      "\u001b[33m        \"\"\"\u001b[39;49;00m\n",
      "        \u001b[36msuper\u001b[39;49;00m(LSTMClassifier, \u001b[36mself\u001b[39;49;00m).\u001b[32m__init__\u001b[39;49;00m()\n",
      "\n",
      "        \u001b[36mself\u001b[39;49;00m.embedding = nn.Embedding(vocab_size, embedding_dim, padding_idx=\u001b[34m0\u001b[39;49;00m)\n",
      "        \u001b[36mself\u001b[39;49;00m.lstm = nn.LSTM(embedding_dim, hidden_dim)\n",
      "        \u001b[36mself\u001b[39;49;00m.dense = nn.Linear(in_features=hidden_dim, out_features=\u001b[34m1\u001b[39;49;00m)\n",
      "        \u001b[36mself\u001b[39;49;00m.sig = nn.Sigmoid()\n",
      "        \n",
      "        \u001b[36mself\u001b[39;49;00m.word_dict = \u001b[34mNone\u001b[39;49;00m\n",
      "\n",
      "    \u001b[34mdef\u001b[39;49;00m \u001b[32mforward\u001b[39;49;00m(\u001b[36mself\u001b[39;49;00m, x):\n",
      "        \u001b[33m\"\"\"\u001b[39;49;00m\n",
      "\u001b[33m        Perform a forward pass of our model on some input.\u001b[39;49;00m\n",
      "\u001b[33m        \"\"\"\u001b[39;49;00m\n",
      "        x = x.t()\n",
      "        lengths = x[\u001b[34m0\u001b[39;49;00m,:]\n",
      "        reviews = x[\u001b[34m1\u001b[39;49;00m:,:]\n",
      "        embeds = \u001b[36mself\u001b[39;49;00m.embedding(reviews)\n",
      "        lstm_out, _ = \u001b[36mself\u001b[39;49;00m.lstm(embeds)\n",
      "        out = \u001b[36mself\u001b[39;49;00m.dense(lstm_out)\n",
      "        out = out[lengths - \u001b[34m1\u001b[39;49;00m, \u001b[36mrange\u001b[39;49;00m(\u001b[36mlen\u001b[39;49;00m(lengths))]\n",
      "        \u001b[34mreturn\u001b[39;49;00m \u001b[36mself\u001b[39;49;00m.sig(out.squeeze())\n"
     ]
    }
   ],
   "source": [
    "!pygmentize train/model.py"
   ]
  },
  {
   "cell_type": "markdown",
   "metadata": {},
   "source": [
    "The important takeaway from the implementation provided is that there are three parameters that we may wish to tweak to improve the performance of our model. These are the embedding dimension, the hidden dimension and the size of the vocabulary. We will likely want to make these parameters configurable in the training script so that if we wish to modify them we do not need to modify the script itself. We will see how to do this later on. To start we will write some of the training code in the notebook so that we can more easily diagnose any issues that arise.\n",
    "\n",
    "First we will load a small portion of the training data set to use as a sample. It would be very time consuming to try and train the model completely in the notebook as we do not have access to a gpu and the compute instance that we are using is not particularly powerful. However, we can work on a small bit of the data to get a feel for how our training script is behaving."
   ]
  },
  {
   "cell_type": "code",
   "execution_count": 24,
   "metadata": {},
   "outputs": [],
   "source": [
    "import torch\n",
    "import torch.utils.data\n",
    "\n",
    "# Read in only the first 250 rows\n",
    "train_sample = pd.read_csv(os.path.join(data_dir, 'train.csv'), header=None, names=None, nrows=250)\n",
    "\n",
    "# Turn the input pandas dataframe into tensors\n",
    "train_sample_y = torch.from_numpy(train_sample[[0]].values).float().squeeze()\n",
    "train_sample_X = torch.from_numpy(train_sample.drop([0], axis=1).values).long()\n",
    "\n",
    "# Build the dataset\n",
    "train_sample_ds = torch.utils.data.TensorDataset(train_sample_X, train_sample_y)\n",
    "# Build the dataloader\n",
    "train_sample_dl = torch.utils.data.DataLoader(train_sample_ds, batch_size=50)"
   ]
  },
  {
   "cell_type": "markdown",
   "metadata": {},
   "source": [
    "### (TODO) Writing the training method\n",
    "\n",
    "Next we need to write the training code itself. This should be very similar to training methods that you have written before to train PyTorch models. We will leave any difficult aspects such as model saving / loading and parameter loading until a little later."
   ]
  },
  {
   "cell_type": "code",
   "execution_count": 25,
   "metadata": {},
   "outputs": [],
   "source": [
    "def train(model, train_loader, epochs, optimizer, loss_fn, device):\n",
    "    for epoch in range(1, epochs + 1):\n",
    "        model.train()\n",
    "        total_loss = 0\n",
    "        for batch in train_loader:         \n",
    "            batch_X, batch_y = batch\n",
    "            \n",
    "            batch_X = batch_X.to(device)\n",
    "            batch_y = batch_y.to(device)\n",
    "            \n",
    "            # TODO: Complete this train method to train the model provided.\n",
    "            optimizer.zero_grad()\n",
    "            output = model.forward(batch_X)\n",
    "            loss = loss_fn(output, batch_y)\n",
    "            loss.backward()\n",
    "            optimizer.step()\n",
    "            \n",
    "            total_loss += loss.data.item()\n",
    "        print(\"Epoch: {}, BCELoss: {}\".format(epoch, total_loss / len(train_loader)))"
   ]
  },
  {
   "cell_type": "markdown",
   "metadata": {},
   "source": [
    "Supposing we have the training method above, we will test that it is working by writing a bit of code in the notebook that executes our training method on the small sample training set that we loaded earlier. The reason for doing this in the notebook is so that we have an opportunity to fix any errors that arise early when they are easier to diagnose."
   ]
  },
  {
   "cell_type": "code",
   "execution_count": 26,
   "metadata": {},
   "outputs": [
    {
     "name": "stdout",
     "output_type": "stream",
     "text": [
      "Epoch: 1, BCELoss: 0.6948049545288086\n",
      "Epoch: 2, BCELoss: 0.6845528364181519\n",
      "Epoch: 3, BCELoss: 0.6757138133049011\n",
      "Epoch: 4, BCELoss: 0.6664614915847779\n",
      "Epoch: 5, BCELoss: 0.6559687852859497\n"
     ]
    }
   ],
   "source": [
    "import torch.optim as optim\n",
    "from train.model import LSTMClassifier\n",
    "\n",
    "device = torch.device(\"cuda\" if torch.cuda.is_available() else \"cpu\")\n",
    "model = LSTMClassifier(32, 100, 5000).to(device)\n",
    "optimizer = optim.Adam(model.parameters())\n",
    "loss_fn = torch.nn.BCELoss()\n",
    "\n",
    "train(model, train_sample_dl, 5, optimizer, loss_fn, device)"
   ]
  },
  {
   "cell_type": "markdown",
   "metadata": {},
   "source": [
    "In order to construct a PyTorch model using SageMaker we must provide SageMaker with a training script. We may optionally include a directory which will be copied to the container and from which our training code will be run. When the training container is executed it will check the uploaded directory (if there is one) for a `requirements.txt` file and install any required Python libraries, after which the training script will be run."
   ]
  },
  {
   "cell_type": "markdown",
   "metadata": {},
   "source": [
    "### (TODO) Training the model\n",
    "\n",
    "When a PyTorch model is constructed in SageMaker, an entry point must be specified. This is the Python file which will be executed when the model is trained. Inside of the `train` directory is a file called `train.py` which has been provided and which contains most of the necessary code to train our model. The only thing that is missing is the implementation of the `train()` method which you wrote earlier in this notebook.\n",
    "\n",
    "**TODO**: Copy the `train()` method written above and paste it into the `train/train.py` file where required.\n",
    "\n",
    "The way that SageMaker passes hyperparameters to the training script is by way of arguments. These arguments can then be parsed and used in the training script. To see how this is done take a look at the provided `train/train.py` file."
   ]
  },
  {
   "cell_type": "code",
   "execution_count": 27,
   "metadata": {},
   "outputs": [],
   "source": [
    "from sagemaker.pytorch import PyTorch\n",
    "\n",
    "estimator = PyTorch(entry_point=\"train.py\",\n",
    "                    source_dir=\"train\",\n",
    "                    role=role,\n",
    "                    framework_version='0.4.0',\n",
    "                    train_instance_count=1,\n",
    "                    train_instance_type='ml.p2.xlarge',\n",
    "                    hyperparameters={\n",
    "                        'epochs': 10,\n",
    "                        'hidden_dim': 200,\n",
    "                    })"
   ]
  },
  {
   "cell_type": "code",
   "execution_count": 28,
   "metadata": {},
   "outputs": [
    {
     "name": "stderr",
     "output_type": "stream",
     "text": [
      "'create_image_uri' will be deprecated in favor of 'ImageURIProvider' class in SageMaker Python SDK v2.\n",
      "'s3_input' class will be renamed to 'TrainingInput' in SageMaker Python SDK v2.\n",
      "'create_image_uri' will be deprecated in favor of 'ImageURIProvider' class in SageMaker Python SDK v2.\n"
     ]
    },
    {
     "name": "stdout",
     "output_type": "stream",
     "text": [
      "2021-08-14 07:41:56 Starting - Starting the training job...\n",
      "2021-08-14 07:41:57 Starting - Launching requested ML instances...\n",
      "2021-08-14 07:42:48 Starting - Preparing the instances for training.........\n",
      "2021-08-14 07:44:23 Downloading - Downloading input data......\n",
      "2021-08-14 07:45:27 Training - Training image download completed. Training in progress..\u001b[34mbash: cannot set terminal process group (-1): Inappropriate ioctl for device\u001b[0m\n",
      "\u001b[34mbash: no job control in this shell\u001b[0m\n",
      "\u001b[34m2021-08-14 07:45:28,506 sagemaker-containers INFO     Imported framework sagemaker_pytorch_container.training\u001b[0m\n",
      "\u001b[34m2021-08-14 07:45:28,531 sagemaker_pytorch_container.training INFO     Block until all host DNS lookups succeed.\u001b[0m\n",
      "\u001b[34m2021-08-14 07:45:29,954 sagemaker_pytorch_container.training INFO     Invoking user training script.\u001b[0m\n",
      "\u001b[34m2021-08-14 07:45:30,185 sagemaker-containers INFO     Module train does not provide a setup.py. \u001b[0m\n",
      "\u001b[34mGenerating setup.py\u001b[0m\n",
      "\u001b[34m2021-08-14 07:45:30,185 sagemaker-containers INFO     Generating setup.cfg\u001b[0m\n",
      "\u001b[34m2021-08-14 07:45:30,185 sagemaker-containers INFO     Generating MANIFEST.in\u001b[0m\n",
      "\u001b[34m2021-08-14 07:45:30,186 sagemaker-containers INFO     Installing module with the following command:\u001b[0m\n",
      "\u001b[34m/usr/bin/python -m pip install -U . -r requirements.txt\u001b[0m\n",
      "\u001b[34mProcessing /opt/ml/code\u001b[0m\n",
      "\u001b[34mCollecting pandas (from -r requirements.txt (line 1))\n",
      "  Downloading https://files.pythonhosted.org/packages/74/24/0cdbf8907e1e3bc5a8da03345c23cbed7044330bb8f73bb12e711a640a00/pandas-0.24.2-cp35-cp35m-manylinux1_x86_64.whl (10.0MB)\u001b[0m\n",
      "\u001b[34mCollecting numpy (from -r requirements.txt (line 2))\u001b[0m\n",
      "\u001b[34m  Downloading https://files.pythonhosted.org/packages/b5/36/88723426b4ff576809fec7d73594fe17a35c27f8d01f93637637a29ae25b/numpy-1.18.5-cp35-cp35m-manylinux1_x86_64.whl (19.9MB)\u001b[0m\n",
      "\u001b[34mCollecting nltk (from -r requirements.txt (line 3))\u001b[0m\n",
      "\u001b[34m  Downloading https://files.pythonhosted.org/packages/5e/37/9532ddd4b1bbb619333d5708aaad9bf1742f051a664c3c6fa6632a105fd8/nltk-3.6.2-py3-none-any.whl (1.5MB)\u001b[0m\n",
      "\u001b[34mCollecting beautifulsoup4 (from -r requirements.txt (line 4))\n",
      "  Downloading https://files.pythonhosted.org/packages/d1/41/e6495bd7d3781cee623ce23ea6ac73282a373088fcd0ddc809a047b18eae/beautifulsoup4-4.9.3-py3-none-any.whl (115kB)\u001b[0m\n",
      "\u001b[34mCollecting html5lib (from -r requirements.txt (line 5))\n",
      "  Downloading https://files.pythonhosted.org/packages/6c/dd/a834df6482147d48e225a49515aabc28974ad5a4ca3215c18a882565b028/html5lib-1.1-py2.py3-none-any.whl (112kB)\u001b[0m\n",
      "\u001b[34mCollecting pytz>=2011k (from pandas->-r requirements.txt (line 1))\n",
      "  Downloading https://files.pythonhosted.org/packages/70/94/784178ca5dd892a98f113cdd923372024dc04b8d40abe77ca76b5fb90ca6/pytz-2021.1-py2.py3-none-any.whl (510kB)\u001b[0m\n",
      "\u001b[34mRequirement already satisfied, skipping upgrade: python-dateutil>=2.5.0 in /usr/local/lib/python3.5/dist-packages (from pandas->-r requirements.txt (line 1)) (2.7.5)\u001b[0m\n",
      "\u001b[34mCollecting regex (from nltk->-r requirements.txt (line 3))\u001b[0m\n",
      "\u001b[34m  Downloading https://files.pythonhosted.org/packages/e7/76/825c82d90e02713827b8cd62ac7879a6b71eea6af6753e9babbdada05f00/regex-2021.8.3.tar.gz (693kB)\u001b[0m\n",
      "\u001b[34mCollecting joblib (from nltk->-r requirements.txt (line 3))\n",
      "  Downloading https://files.pythonhosted.org/packages/28/5c/cf6a2b65a321c4a209efcdf64c2689efae2cb62661f8f6f4bb28547cf1bf/joblib-0.14.1-py2.py3-none-any.whl (294kB)\u001b[0m\n",
      "\u001b[34mRequirement already satisfied, skipping upgrade: click in /usr/local/lib/python3.5/dist-packages (from nltk->-r requirements.txt (line 3)) (7.0)\u001b[0m\n",
      "\u001b[34mCollecting tqdm (from nltk->-r requirements.txt (line 3))\n",
      "  Downloading https://files.pythonhosted.org/packages/0b/e8/d6f4db0886dbba2fc87b5314f2d5127acdc782e4b51e6f86972a2e45ffd6/tqdm-4.62.0-py2.py3-none-any.whl (76kB)\u001b[0m\n",
      "\u001b[34mCollecting soupsieve>1.2; python_version >= \"3.0\" (from beautifulsoup4->-r requirements.txt (line 4))\n",
      "  Downloading https://files.pythonhosted.org/packages/02/fb/1c65691a9aeb7bd6ac2aa505b84cb8b49ac29c976411c6ab3659425e045f/soupsieve-2.1-py3-none-any.whl\u001b[0m\n",
      "\u001b[34mRequirement already satisfied, skipping upgrade: six>=1.9 in /usr/local/lib/python3.5/dist-packages (from html5lib->-r requirements.txt (line 5)) (1.11.0)\u001b[0m\n",
      "\u001b[34mCollecting webencodings (from html5lib->-r requirements.txt (line 5))\n",
      "  Downloading https://files.pythonhosted.org/packages/f4/24/2a3e3df732393fed8b3ebf2ec078f05546de641fe1b667ee316ec1dcf3b7/webencodings-0.5.1-py2.py3-none-any.whl\u001b[0m\n",
      "\u001b[34mBuilding wheels for collected packages: train, regex\n",
      "  Running setup.py bdist_wheel for train: started\u001b[0m\n",
      "\u001b[34m  Running setup.py bdist_wheel for train: finished with status 'done'\n",
      "  Stored in directory: /tmp/pip-ephem-wheel-cache-cz91xd4k/wheels/35/24/16/37574d11bf9bde50616c67372a334f94fa8356bc7164af8ca3\n",
      "  Running setup.py bdist_wheel for regex: started\u001b[0m\n",
      "\u001b[34m  Running setup.py bdist_wheel for regex: finished with status 'done'\n",
      "  Stored in directory: /root/.cache/pip/wheels/cc/4f/a3/3616cab496e56883cad1107a8f036678bbc39d7cb598f3652b\u001b[0m\n",
      "\u001b[34mSuccessfully built train regex\u001b[0m\n",
      "\u001b[34mInstalling collected packages: pytz, numpy, pandas, regex, joblib, tqdm, nltk, soupsieve, beautifulsoup4, webencodings, html5lib, train\n",
      "  Found existing installation: numpy 1.15.4\n",
      "    Uninstalling numpy-1.15.4:\u001b[0m\n",
      "\u001b[34m      Successfully uninstalled numpy-1.15.4\u001b[0m\n",
      "\u001b[34mSuccessfully installed beautifulsoup4-4.9.3 html5lib-1.1 joblib-0.14.1 nltk-3.6.2 numpy-1.18.5 pandas-0.24.2 pytz-2021.1 regex-2021.8.3 soupsieve-2.1 tqdm-4.62.0 train-1.0.0 webencodings-0.5.1\u001b[0m\n",
      "\u001b[34mYou are using pip version 18.1, however version 20.3.4 is available.\u001b[0m\n",
      "\u001b[34mYou should consider upgrading via the 'pip install --upgrade pip' command.\u001b[0m\n",
      "\u001b[34m2021-08-14 07:45:51,634 sagemaker-containers INFO     Invoking user script\n",
      "\u001b[0m\n",
      "\u001b[34mTraining Env:\n",
      "\u001b[0m\n",
      "\u001b[34m{\n",
      "    \"input_dir\": \"/opt/ml/input\",\n",
      "    \"hyperparameters\": {\n",
      "        \"hidden_dim\": 200,\n",
      "        \"epochs\": 10\n",
      "    },\n",
      "    \"current_host\": \"algo-1\",\n",
      "    \"resource_config\": {\n",
      "        \"current_host\": \"algo-1\",\n",
      "        \"network_interface_name\": \"eth0\",\n",
      "        \"hosts\": [\n",
      "            \"algo-1\"\n",
      "        ]\n",
      "    },\n",
      "    \"log_level\": 20,\n",
      "    \"job_name\": \"sagemaker-pytorch-2021-08-14-07-41-55-810\",\n",
      "    \"input_data_config\": {\n",
      "        \"training\": {\n",
      "            \"TrainingInputMode\": \"File\",\n",
      "            \"S3DistributionType\": \"FullyReplicated\",\n",
      "            \"RecordWrapperType\": \"None\"\n",
      "        }\n",
      "    },\n",
      "    \"framework_module\": \"sagemaker_pytorch_container.training:main\",\n",
      "    \"module_name\": \"train\",\n",
      "    \"model_dir\": \"/opt/ml/model\",\n",
      "    \"module_dir\": \"s3://sagemaker-eu-central-1-855372857567/sagemaker-pytorch-2021-08-14-07-41-55-810/source/sourcedir.tar.gz\",\n",
      "    \"output_data_dir\": \"/opt/ml/output/data\",\n",
      "    \"num_gpus\": 1,\n",
      "    \"output_dir\": \"/opt/ml/output\",\n",
      "    \"network_interface_name\": \"eth0\",\n",
      "    \"user_entry_point\": \"train.py\",\n",
      "    \"output_intermediate_dir\": \"/opt/ml/output/intermediate\",\n",
      "    \"additional_framework_parameters\": {},\n",
      "    \"hosts\": [\n",
      "        \"algo-1\"\n",
      "    ],\n",
      "    \"input_config_dir\": \"/opt/ml/input/config\",\n",
      "    \"channel_input_dirs\": {\n",
      "        \"training\": \"/opt/ml/input/data/training\"\n",
      "    },\n",
      "    \"num_cpus\": 4\u001b[0m\n",
      "\u001b[34m}\n",
      "\u001b[0m\n",
      "\u001b[34mEnvironment variables:\n",
      "\u001b[0m\n",
      "\u001b[34mSM_MODULE_NAME=train\u001b[0m\n",
      "\u001b[34mSM_NETWORK_INTERFACE_NAME=eth0\u001b[0m\n",
      "\u001b[34mSM_FRAMEWORK_MODULE=sagemaker_pytorch_container.training:main\u001b[0m\n",
      "\u001b[34mSM_OUTPUT_INTERMEDIATE_DIR=/opt/ml/output/intermediate\u001b[0m\n",
      "\u001b[34mSM_USER_ENTRY_POINT=train.py\u001b[0m\n",
      "\u001b[34mSM_TRAINING_ENV={\"additional_framework_parameters\":{},\"channel_input_dirs\":{\"training\":\"/opt/ml/input/data/training\"},\"current_host\":\"algo-1\",\"framework_module\":\"sagemaker_pytorch_container.training:main\",\"hosts\":[\"algo-1\"],\"hyperparameters\":{\"epochs\":10,\"hidden_dim\":200},\"input_config_dir\":\"/opt/ml/input/config\",\"input_data_config\":{\"training\":{\"RecordWrapperType\":\"None\",\"S3DistributionType\":\"FullyReplicated\",\"TrainingInputMode\":\"File\"}},\"input_dir\":\"/opt/ml/input\",\"job_name\":\"sagemaker-pytorch-2021-08-14-07-41-55-810\",\"log_level\":20,\"model_dir\":\"/opt/ml/model\",\"module_dir\":\"s3://sagemaker-eu-central-1-855372857567/sagemaker-pytorch-2021-08-14-07-41-55-810/source/sourcedir.tar.gz\",\"module_name\":\"train\",\"network_interface_name\":\"eth0\",\"num_cpus\":4,\"num_gpus\":1,\"output_data_dir\":\"/opt/ml/output/data\",\"output_dir\":\"/opt/ml/output\",\"output_intermediate_dir\":\"/opt/ml/output/intermediate\",\"resource_config\":{\"current_host\":\"algo-1\",\"hosts\":[\"algo-1\"],\"network_interface_name\":\"eth0\"},\"user_entry_point\":\"train.py\"}\u001b[0m\n",
      "\u001b[34mSM_OUTPUT_DIR=/opt/ml/output\u001b[0m\n",
      "\u001b[34mSM_CHANNELS=[\"training\"]\u001b[0m\n",
      "\u001b[34mSM_HPS={\"epochs\":10,\"hidden_dim\":200}\u001b[0m\n",
      "\u001b[34mSM_NUM_GPUS=1\u001b[0m\n",
      "\u001b[34mSM_RESOURCE_CONFIG={\"current_host\":\"algo-1\",\"hosts\":[\"algo-1\"],\"network_interface_name\":\"eth0\"}\u001b[0m\n",
      "\u001b[34mSM_FRAMEWORK_PARAMS={}\u001b[0m\n",
      "\u001b[34mSM_INPUT_CONFIG_DIR=/opt/ml/input/config\u001b[0m\n",
      "\u001b[34mSM_CURRENT_HOST=algo-1\u001b[0m\n",
      "\u001b[34mSM_MODULE_DIR=s3://sagemaker-eu-central-1-855372857567/sagemaker-pytorch-2021-08-14-07-41-55-810/source/sourcedir.tar.gz\u001b[0m\n",
      "\u001b[34mSM_MODEL_DIR=/opt/ml/model\u001b[0m\n",
      "\u001b[34mSM_HP_HIDDEN_DIM=200\u001b[0m\n",
      "\u001b[34mSM_USER_ARGS=[\"--epochs\",\"10\",\"--hidden_dim\",\"200\"]\u001b[0m\n",
      "\u001b[34mSM_LOG_LEVEL=20\u001b[0m\n",
      "\u001b[34mSM_CHANNEL_TRAINING=/opt/ml/input/data/training\u001b[0m\n",
      "\u001b[34mSM_HOSTS=[\"algo-1\"]\u001b[0m\n",
      "\u001b[34mSM_INPUT_DATA_CONFIG={\"training\":{\"RecordWrapperType\":\"None\",\"S3DistributionType\":\"FullyReplicated\",\"TrainingInputMode\":\"File\"}}\u001b[0m\n",
      "\u001b[34mSM_HP_EPOCHS=10\u001b[0m\n",
      "\u001b[34mPYTHONPATH=/usr/local/bin:/usr/lib/python35.zip:/usr/lib/python3.5:/usr/lib/python3.5/plat-x86_64-linux-gnu:/usr/lib/python3.5/lib-dynload:/usr/local/lib/python3.5/dist-packages:/usr/lib/python3/dist-packages\u001b[0m\n",
      "\u001b[34mSM_NUM_CPUS=4\u001b[0m\n",
      "\u001b[34mSM_INPUT_DIR=/opt/ml/input\u001b[0m\n",
      "\u001b[34mSM_OUTPUT_DATA_DIR=/opt/ml/output/data\n",
      "\u001b[0m\n",
      "\u001b[34mInvoking script with the following command:\n",
      "\u001b[0m\n",
      "\u001b[34m/usr/bin/python -m train --epochs 10 --hidden_dim 200\n",
      "\n",
      "\u001b[0m\n",
      "\u001b[34mUsing device cuda.\u001b[0m\n",
      "\u001b[34mGet train data loader.\u001b[0m\n",
      "\u001b[34mModel loaded with embedding_dim 32, hidden_dim 200, vocab_size 5000.\u001b[0m\n",
      "\u001b[34mEpoch: 1, BCELoss: 0.014151867555112255\u001b[0m\n",
      "\u001b[34mEpoch: 1, BCELoss: 0.0282737600560091\u001b[0m\n",
      "\u001b[34mEpoch: 1, BCELoss: 0.042393667357308526\u001b[0m\n",
      "\u001b[34mEpoch: 1, BCELoss: 0.05651009812646983\u001b[0m\n",
      "\u001b[34mEpoch: 1, BCELoss: 0.07058258080969051\u001b[0m\n",
      "\u001b[34mEpoch: 1, BCELoss: 0.08470574568729011\u001b[0m\n",
      "\u001b[34mEpoch: 1, BCELoss: 0.09879172213223515\u001b[0m\n",
      "\u001b[34mEpoch: 1, BCELoss: 0.11283240756210015\u001b[0m\n",
      "\u001b[34mEpoch: 1, BCELoss: 0.1268519892984507\u001b[0m\n",
      "\u001b[34mEpoch: 1, BCELoss: 0.14091555196411756\u001b[0m\n",
      "\u001b[34mEpoch: 1, BCELoss: 0.1549197751648572\u001b[0m\n",
      "\u001b[34mEpoch: 1, BCELoss: 0.16888305970600673\u001b[0m\n",
      "\u001b[34mEpoch: 1, BCELoss: 0.18285931251486953\u001b[0m\n",
      "\u001b[34mEpoch: 1, BCELoss: 0.19690319956565389\u001b[0m\n",
      "\u001b[34mEpoch: 1, BCELoss: 0.21089675718424272\u001b[0m\n",
      "\u001b[34mEpoch: 1, BCELoss: 0.22489587506469416\u001b[0m\n",
      "\u001b[34mEpoch: 1, BCELoss: 0.2389101142785987\u001b[0m\n",
      "\u001b[34mEpoch: 1, BCELoss: 0.25282155251016425\u001b[0m\n",
      "\u001b[34mEpoch: 1, BCELoss: 0.266694615081865\u001b[0m\n",
      "\u001b[34mEpoch: 1, BCELoss: 0.2805499908875446\u001b[0m\n",
      "\u001b[34mEpoch: 1, BCELoss: 0.294354188198946\u001b[0m\n",
      "\u001b[34mEpoch: 1, BCELoss: 0.308056361821233\u001b[0m\n",
      "\u001b[34mEpoch: 1, BCELoss: 0.32186640403708633\u001b[0m\n",
      "\u001b[34mEpoch: 1, BCELoss: 0.33570398724808986\u001b[0m\n",
      "\u001b[34mEpoch: 1, BCELoss: 0.34936908556490526\u001b[0m\n",
      "\u001b[34mEpoch: 1, BCELoss: 0.3631362671754798\u001b[0m\n",
      "\u001b[34mEpoch: 1, BCELoss: 0.3769012847725226\u001b[0m\n",
      "\u001b[34mEpoch: 1, BCELoss: 0.3902197309902736\u001b[0m\n",
      "\u001b[34mEpoch: 1, BCELoss: 0.4033358766108143\u001b[0m\n",
      "\u001b[34mEpoch: 1, BCELoss: 0.4171921537846935\u001b[0m\n",
      "\u001b[34mEpoch: 1, BCELoss: 0.43079493848644956\u001b[0m\n",
      "\u001b[34mEpoch: 1, BCELoss: 0.4439145959153467\u001b[0m\n",
      "\u001b[34mEpoch: 1, BCELoss: 0.4576186148487792\u001b[0m\n",
      "\u001b[34mEpoch: 1, BCELoss: 0.4709751593823336\u001b[0m\n",
      "\u001b[34mEpoch: 1, BCELoss: 0.4841599586058636\u001b[0m\n",
      "\u001b[34mEpoch: 1, BCELoss: 0.4971306993036854\u001b[0m\n",
      "\u001b[34mEpoch: 1, BCELoss: 0.5102459691008743\u001b[0m\n",
      "\u001b[34mEpoch: 1, BCELoss: 0.5233439876108753\u001b[0m\n",
      "\u001b[34mEpoch: 1, BCELoss: 0.5362074727914772\u001b[0m\n",
      "\u001b[34mEpoch: 1, BCELoss: 0.5489403191877871\u001b[0m\n",
      "\u001b[34mEpoch: 1, BCELoss: 0.5622268088009893\u001b[0m\n",
      "\u001b[34mEpoch: 1, BCELoss: 0.5756808215258072\u001b[0m\n",
      "\u001b[34mEpoch: 1, BCELoss: 0.5888023972511292\u001b[0m\n",
      "\u001b[34mEpoch: 1, BCELoss: 0.6020739771881882\u001b[0m\n",
      "\u001b[34mEpoch: 1, BCELoss: 0.6150880261343352\u001b[0m\n",
      "\u001b[34mEpoch: 1, BCELoss: 0.6283206732905641\u001b[0m\n",
      "\u001b[34mEpoch: 1, BCELoss: 0.6417624950408936\u001b[0m\n",
      "\u001b[34mEpoch: 1, BCELoss: 0.6550289915532482\u001b[0m\n",
      "\u001b[34mEpoch: 1, BCELoss: 0.6682775008435152\u001b[0m\n",
      "\u001b[34mEpoch: 2, BCELoss: 0.01338057736961209\u001b[0m\n",
      "\u001b[34mEpoch: 2, BCELoss: 0.026307758019894968\u001b[0m\n",
      "\u001b[34mEpoch: 2, BCELoss: 0.03909293486147511\u001b[0m\n",
      "\u001b[34mEpoch: 2, BCELoss: 0.05205468134004242\u001b[0m\n",
      "\u001b[34mEpoch: 2, BCELoss: 0.06519610297923185\u001b[0m\n",
      "\u001b[34mEpoch: 2, BCELoss: 0.07833425244506524\u001b[0m\n",
      "\u001b[34mEpoch: 2, BCELoss: 0.09133691933690286\u001b[0m\n",
      "\u001b[34mEpoch: 2, BCELoss: 0.10394685244073673\u001b[0m\n",
      "\u001b[34mEpoch: 2, BCELoss: 0.11597203113594834\u001b[0m\n",
      "\u001b[34mEpoch: 2, BCELoss: 0.12924647331237793\u001b[0m\n",
      "\u001b[34mEpoch: 2, BCELoss: 0.14312242366829697\u001b[0m\n",
      "\u001b[34mEpoch: 2, BCELoss: 0.15498500089256131\u001b[0m\n",
      "\u001b[34mEpoch: 2, BCELoss: 0.16735064618441522\u001b[0m\n",
      "\u001b[34mEpoch: 2, BCELoss: 0.17990159015266263\u001b[0m\n",
      "\u001b[34mEpoch: 2, BCELoss: 0.19235396750119269\u001b[0m\n",
      "\u001b[34mEpoch: 2, BCELoss: 0.20493268966674805\u001b[0m\n",
      "\u001b[34mEpoch: 2, BCELoss: 0.21772689965306496\u001b[0m\n",
      "\u001b[34mEpoch: 2, BCELoss: 0.2301367983526113\u001b[0m\n",
      "\u001b[34mEpoch: 2, BCELoss: 0.2423637764794486\u001b[0m\n",
      "\u001b[34mEpoch: 2, BCELoss: 0.25481320643911554\u001b[0m\n",
      "\u001b[34mEpoch: 2, BCELoss: 0.2675692001167609\u001b[0m\n",
      "\u001b[34mEpoch: 2, BCELoss: 0.27973979224964063\u001b[0m\n",
      "\u001b[34mEpoch: 2, BCELoss: 0.2925348354845631\u001b[0m\n",
      "\u001b[34mEpoch: 2, BCELoss: 0.30511316839529545\u001b[0m\n",
      "\u001b[34mEpoch: 2, BCELoss: 0.31663051308417806\u001b[0m\n",
      "\u001b[34mEpoch: 2, BCELoss: 0.3301056793757847\u001b[0m\n",
      "\u001b[34mEpoch: 2, BCELoss: 0.34186452505539877\u001b[0m\n",
      "\u001b[34mEpoch: 2, BCELoss: 0.35370318378720966\u001b[0m\n",
      "\u001b[34mEpoch: 2, BCELoss: 0.3651820700995776\u001b[0m\n",
      "\u001b[34mEpoch: 2, BCELoss: 0.37786961453301565\u001b[0m\n",
      "\u001b[34mEpoch: 2, BCELoss: 0.3896470276676879\u001b[0m\n",
      "\u001b[34mEpoch: 2, BCELoss: 0.4012490510940552\u001b[0m\n",
      "\u001b[34mEpoch: 2, BCELoss: 0.4134702390554\u001b[0m\n",
      "\u001b[34mEpoch: 2, BCELoss: 0.4249903985432216\u001b[0m\n",
      "\u001b[34mEpoch: 2, BCELoss: 0.4366246303733514\u001b[0m\n",
      "\u001b[34mEpoch: 2, BCELoss: 0.44788479926634805\u001b[0m\n",
      "\u001b[34mEpoch: 2, BCELoss: 0.4597368459312283\u001b[0m\n",
      "\u001b[34mEpoch: 2, BCELoss: 0.47129526308604647\u001b[0m\n",
      "\u001b[34mEpoch: 2, BCELoss: 0.48271025930132183\u001b[0m\n",
      "\u001b[34mEpoch: 2, BCELoss: 0.4940372778444874\u001b[0m\n",
      "\u001b[34mEpoch: 2, BCELoss: 0.5056056915497293\u001b[0m\n",
      "\u001b[34mEpoch: 2, BCELoss: 0.5175592765516165\u001b[0m\n",
      "\u001b[34mEpoch: 2, BCELoss: 0.5288860810046293\u001b[0m\n",
      "\u001b[34mEpoch: 2, BCELoss: 0.540645246603051\u001b[0m\n",
      "\u001b[34mEpoch: 2, BCELoss: 0.5517655866486686\u001b[0m\n",
      "\u001b[34mEpoch: 2, BCELoss: 0.5632847450217422\u001b[0m\n",
      "\u001b[34mEpoch: 2, BCELoss: 0.5751080890091098\u001b[0m\n",
      "\u001b[34mEpoch: 2, BCELoss: 0.5869455519987612\u001b[0m\n",
      "\u001b[34mEpoch: 2, BCELoss: 0.598429194518498\u001b[0m\n",
      "\u001b[34mEpoch: 3, BCELoss: 0.011357499628650899\u001b[0m\n",
      "\u001b[34mEpoch: 3, BCELoss: 0.021933525192494294\u001b[0m\n",
      "\u001b[34mEpoch: 3, BCELoss: 0.03276559041470897\u001b[0m\n",
      "\u001b[34mEpoch: 3, BCELoss: 0.04373703319199231\u001b[0m\n",
      "\u001b[34mEpoch: 3, BCELoss: 0.05440918645080255\u001b[0m\n",
      "\u001b[34mEpoch: 3, BCELoss: 0.06595488470427845\u001b[0m\n",
      "\u001b[34mEpoch: 3, BCELoss: 0.0775053428143871\u001b[0m\n",
      "\u001b[34mEpoch: 3, BCELoss: 0.08800826875530944\u001b[0m\n",
      "\u001b[34mEpoch: 3, BCELoss: 0.0984133031903481\u001b[0m\n",
      "\u001b[34mEpoch: 3, BCELoss: 0.1098301812094085\u001b[0m\n",
      "\u001b[34mEpoch: 3, BCELoss: 0.12085040369812323\u001b[0m\n",
      "\u001b[34mEpoch: 3, BCELoss: 0.13133435468284452\u001b[0m\n",
      "\u001b[34mEpoch: 3, BCELoss: 0.14212752361686862\u001b[0m\n",
      "\u001b[34mEpoch: 3, BCELoss: 0.15249241979754702\u001b[0m\n",
      "\u001b[34mEpoch: 3, BCELoss: 0.16337222834022677\u001b[0m\n",
      "\u001b[34mEpoch: 3, BCELoss: 0.1741927120150352\u001b[0m\n",
      "\u001b[34mEpoch: 3, BCELoss: 0.18507910018064538\u001b[0m\n",
      "\u001b[34mEpoch: 3, BCELoss: 0.19581347339007318\u001b[0m\n",
      "\u001b[34mEpoch: 3, BCELoss: 0.20700599587693505\u001b[0m\n",
      "\u001b[34mEpoch: 3, BCELoss: 0.21800822019577026\u001b[0m\n",
      "\u001b[34mEpoch: 3, BCELoss: 0.2292803489432043\u001b[0m\n",
      "\u001b[34mEpoch: 3, BCELoss: 0.2399609137554558\u001b[0m\n",
      "\u001b[34mEpoch: 3, BCELoss: 0.2514741396417423\u001b[0m\n",
      "\u001b[34mEpoch: 3, BCELoss: 0.2627499140038782\u001b[0m\n",
      "\u001b[34mEpoch: 3, BCELoss: 0.2725358325607923\u001b[0m\n",
      "\u001b[34mEpoch: 3, BCELoss: 0.28353181420540324\u001b[0m\n",
      "\u001b[34mEpoch: 3, BCELoss: 0.29353636685682805\u001b[0m\n",
      "\u001b[34mEpoch: 3, BCELoss: 0.304021382210206\u001b[0m\n",
      "\u001b[34mEpoch: 3, BCELoss: 0.313779709290485\u001b[0m\n",
      "\u001b[34mEpoch: 3, BCELoss: 0.3251193311749672\u001b[0m\n",
      "\u001b[34mEpoch: 3, BCELoss: 0.335695426074826\u001b[0m\n",
      "\u001b[34mEpoch: 3, BCELoss: 0.3456559637371375\u001b[0m\n",
      "\u001b[34mEpoch: 3, BCELoss: 0.35663605527001985\u001b[0m\n",
      "\u001b[34mEpoch: 3, BCELoss: 0.3669094193954857\u001b[0m\n",
      "\u001b[34mEpoch: 3, BCELoss: 0.3770843872002193\u001b[0m\n",
      "\u001b[34mEpoch: 3, BCELoss: 0.3868257573672703\u001b[0m\n",
      "\u001b[34mEpoch: 3, BCELoss: 0.3972575846983462\u001b[0m\n",
      "\u001b[34mEpoch: 3, BCELoss: 0.4073568102048368\u001b[0m\n",
      "\u001b[34mEpoch: 3, BCELoss: 0.4178647563165548\u001b[0m\n",
      "\u001b[34mEpoch: 3, BCELoss: 0.4285438979158596\u001b[0m\n",
      "\u001b[34mEpoch: 3, BCELoss: 0.4382303144250597\u001b[0m\n",
      "\u001b[34mEpoch: 3, BCELoss: 0.44856483291606514\u001b[0m\n",
      "\u001b[34mEpoch: 3, BCELoss: 0.45876408596428075\u001b[0m\n",
      "\u001b[34mEpoch: 3, BCELoss: 0.4693209991163137\u001b[0m\n",
      "\u001b[34mEpoch: 3, BCELoss: 0.47943394098963055\u001b[0m\n",
      "\u001b[34mEpoch: 3, BCELoss: 0.48959662172259116\u001b[0m\n",
      "\u001b[34mEpoch: 3, BCELoss: 0.4998014721335197\u001b[0m\n",
      "\u001b[34mEpoch: 3, BCELoss: 0.5101059352865025\u001b[0m\n",
      "\u001b[34mEpoch: 3, BCELoss: 0.5206374836211302\u001b[0m\n",
      "\u001b[34mEpoch: 4, BCELoss: 0.010320512615904515\u001b[0m\n",
      "\u001b[34mEpoch: 4, BCELoss: 0.01928774738798336\u001b[0m\n",
      "\u001b[34mEpoch: 4, BCELoss: 0.02971754816113686\u001b[0m\n",
      "\u001b[34mEpoch: 4, BCELoss: 0.04003744405143115\u001b[0m\n",
      "\u001b[34mEpoch: 4, BCELoss: 0.04973316618374416\u001b[0m\n",
      "\u001b[34mEpoch: 4, BCELoss: 0.05969398058190638\u001b[0m\n",
      "\u001b[34mEpoch: 4, BCELoss: 0.07031214662960597\u001b[0m\n",
      "\u001b[34mEpoch: 4, BCELoss: 0.07987298649184559\u001b[0m\n",
      "\u001b[34mEpoch: 4, BCELoss: 0.08932850312213508\u001b[0m\n",
      "\u001b[34mEpoch: 4, BCELoss: 0.09966412125801553\u001b[0m\n",
      "\u001b[34mEpoch: 4, BCELoss: 0.10954388793633908\u001b[0m\n",
      "\u001b[34mEpoch: 4, BCELoss: 0.11951393436412422\u001b[0m\n",
      "\u001b[34mEpoch: 4, BCELoss: 0.12968812487563308\u001b[0m\n",
      "\u001b[34mEpoch: 4, BCELoss: 0.13873289860024743\u001b[0m\n",
      "\u001b[34mEpoch: 4, BCELoss: 0.14847654469159186\u001b[0m\n",
      "\u001b[34mEpoch: 4, BCELoss: 0.15812383805002486\u001b[0m\n",
      "\u001b[34mEpoch: 4, BCELoss: 0.1674947659580075\u001b[0m\n",
      "\u001b[34mEpoch: 4, BCELoss: 0.17603226097262636\u001b[0m\n",
      "\u001b[34mEpoch: 4, BCELoss: 0.1850549517845621\u001b[0m\n",
      "\u001b[34mEpoch: 4, BCELoss: 0.19428241921930897\u001b[0m\n",
      "\u001b[34mEpoch: 4, BCELoss: 0.20391456509123043\u001b[0m\n",
      "\u001b[34mEpoch: 4, BCELoss: 0.21287419844646843\u001b[0m\n",
      "\u001b[34mEpoch: 4, BCELoss: 0.22271318459997372\u001b[0m\n",
      "\u001b[34mEpoch: 4, BCELoss: 0.23219452585492814\u001b[0m\n",
      "\u001b[34mEpoch: 4, BCELoss: 0.2404511570930481\u001b[0m\n",
      "\u001b[34mEpoch: 4, BCELoss: 0.25001441520087575\u001b[0m\n",
      "\u001b[34mEpoch: 4, BCELoss: 0.2587091831528411\u001b[0m\n",
      "\u001b[34mEpoch: 4, BCELoss: 0.2665732843535287\u001b[0m\n",
      "\u001b[34mEpoch: 4, BCELoss: 0.2742238148134582\u001b[0m\n",
      "\u001b[34mEpoch: 4, BCELoss: 0.28524056320287744\u001b[0m\n",
      "\u001b[34mEpoch: 4, BCELoss: 0.293985479948472\u001b[0m\n",
      "\u001b[34mEpoch: 4, BCELoss: 0.3021178944986694\u001b[0m\n",
      "\u001b[34mEpoch: 4, BCELoss: 0.3113510821546827\u001b[0m\n",
      "\u001b[34mEpoch: 4, BCELoss: 0.3203191313208366\u001b[0m\n",
      "\u001b[34mEpoch: 4, BCELoss: 0.32934838168475095\u001b[0m\n",
      "\u001b[34mEpoch: 4, BCELoss: 0.3382870512349265\u001b[0m\n",
      "\u001b[34mEpoch: 4, BCELoss: 0.34784810579552944\u001b[0m\n",
      "\u001b[34mEpoch: 4, BCELoss: 0.3566608824292008\u001b[0m\n",
      "\u001b[34mEpoch: 4, BCELoss: 0.3652682949085625\u001b[0m\n",
      "\u001b[34mEpoch: 4, BCELoss: 0.37359936991516424\u001b[0m\n",
      "\u001b[34mEpoch: 4, BCELoss: 0.3820113004470358\u001b[0m\n",
      "\u001b[34mEpoch: 4, BCELoss: 0.3906302616304281\u001b[0m\n",
      "\u001b[34mEpoch: 4, BCELoss: 0.39922101826083906\u001b[0m\n",
      "\u001b[34mEpoch: 4, BCELoss: 0.40821599108832224\u001b[0m\n",
      "\u001b[34mEpoch: 4, BCELoss: 0.416959317971249\u001b[0m\n",
      "\u001b[34mEpoch: 4, BCELoss: 0.4258334393403968\u001b[0m\n",
      "\u001b[34mEpoch: 4, BCELoss: 0.434661045366404\u001b[0m\n",
      "\u001b[34mEpoch: 4, BCELoss: 0.44325060382181286\u001b[0m\n",
      "\u001b[34mEpoch: 4, BCELoss: 0.4519966755594526\u001b[0m\n",
      "\u001b[34mEpoch: 5, BCELoss: 0.008284263464869285\u001b[0m\n",
      "\u001b[34mEpoch: 5, BCELoss: 0.015996586303321684\u001b[0m\n",
      "\u001b[34mEpoch: 5, BCELoss: 0.024516365966018364\u001b[0m\n",
      "\u001b[34mEpoch: 5, BCELoss: 0.03333447356613315\u001b[0m\n",
      "\u001b[34mEpoch: 5, BCELoss: 0.041339482579912455\u001b[0m\n",
      "\u001b[34mEpoch: 5, BCELoss: 0.050027163661256126\u001b[0m\n",
      "\u001b[34mEpoch: 5, BCELoss: 0.05884305615814365\u001b[0m\n",
      "\u001b[34mEpoch: 5, BCELoss: 0.0676332803405061\u001b[0m\n",
      "\u001b[34mEpoch: 5, BCELoss: 0.07548170004572187\u001b[0m\n",
      "\u001b[34mEpoch: 5, BCELoss: 0.08463687312846281\u001b[0m\n",
      "\u001b[34mEpoch: 5, BCELoss: 0.09355424983160836\u001b[0m\n",
      "\u001b[34mEpoch: 5, BCELoss: 0.10168948161358736\u001b[0m\n",
      "\u001b[34mEpoch: 5, BCELoss: 0.11004699128014701\u001b[0m\n",
      "\u001b[34mEpoch: 5, BCELoss: 0.11709815993600962\u001b[0m\n",
      "\u001b[34mEpoch: 5, BCELoss: 0.1253606938585943\u001b[0m\n",
      "\u001b[34mEpoch: 5, BCELoss: 0.1339235348360879\u001b[0m\n",
      "\u001b[34mEpoch: 5, BCELoss: 0.14206528967740584\u001b[0m\n",
      "\u001b[34mEpoch: 5, BCELoss: 0.14922559747890551\u001b[0m\n",
      "\u001b[34mEpoch: 5, BCELoss: 0.1570874476919369\u001b[0m\n",
      "\u001b[34mEpoch: 5, BCELoss: 0.16504295991391552\u001b[0m\n",
      "\u001b[34mEpoch: 5, BCELoss: 0.17314112673000415\u001b[0m\n",
      "\u001b[34mEpoch: 5, BCELoss: 0.180474225963865\u001b[0m\n",
      "\u001b[34mEpoch: 5, BCELoss: 0.18871848193966612\u001b[0m\n",
      "\u001b[34mEpoch: 5, BCELoss: 0.1968283829640369\u001b[0m\n",
      "\u001b[34mEpoch: 5, BCELoss: 0.20362444678131414\u001b[0m\n",
      "\u001b[34mEpoch: 5, BCELoss: 0.21180302512889004\u001b[0m\n",
      "\u001b[34mEpoch: 5, BCELoss: 0.21940402473722184\u001b[0m\n",
      "\u001b[34mEpoch: 5, BCELoss: 0.2261379531451634\u001b[0m\n",
      "\u001b[34mEpoch: 5, BCELoss: 0.232784666577164\u001b[0m\n",
      "\u001b[34mEpoch: 5, BCELoss: 0.24243239115695564\u001b[0m\n",
      "\u001b[34mEpoch: 5, BCELoss: 0.2502105746950422\u001b[0m\n",
      "\u001b[34mEpoch: 5, BCELoss: 0.2573381558972962\u001b[0m\n",
      "\u001b[34mEpoch: 5, BCELoss: 0.2654040911976172\u001b[0m\n",
      "\u001b[34mEpoch: 5, BCELoss: 0.27329851839007163\u001b[0m\n",
      "\u001b[34mEpoch: 5, BCELoss: 0.2809112473410003\u001b[0m\n",
      "\u001b[34mEpoch: 5, BCELoss: 0.2886287795037639\u001b[0m\n",
      "\u001b[34mEpoch: 5, BCELoss: 0.297738575205511\u001b[0m\n",
      "\u001b[34mEpoch: 5, BCELoss: 0.30524173196481197\u001b[0m\n",
      "\u001b[34mEpoch: 5, BCELoss: 0.31281565646735987\u001b[0m\n",
      "\u001b[34mEpoch: 5, BCELoss: 0.31961286676173306\u001b[0m\n",
      "\u001b[34mEpoch: 5, BCELoss: 0.3268333503178188\u001b[0m\n",
      "\u001b[34mEpoch: 5, BCELoss: 0.33412213775576377\u001b[0m\n",
      "\u001b[34mEpoch: 5, BCELoss: 0.34157044242839424\u001b[0m\n",
      "\u001b[34mEpoch: 5, BCELoss: 0.34897942019968614\u001b[0m\n",
      "\u001b[34mEpoch: 5, BCELoss: 0.3569238350099447\u001b[0m\n",
      "\u001b[34mEpoch: 5, BCELoss: 0.3646063196415804\u001b[0m\n",
      "\u001b[34mEpoch: 5, BCELoss: 0.37236765635256863\u001b[0m\n",
      "\u001b[34mEpoch: 5, BCELoss: 0.3796947999876373\u001b[0m\n",
      "\u001b[34mEpoch: 5, BCELoss: 0.38696208717871683\u001b[0m\n",
      "\u001b[34mEpoch: 6, BCELoss: 0.007425802094595773\u001b[0m\n",
      "\u001b[34mEpoch: 6, BCELoss: 0.014070637372075295\u001b[0m\n",
      "\u001b[34mEpoch: 6, BCELoss: 0.0218365770213458\u001b[0m\n",
      "\u001b[34mEpoch: 6, BCELoss: 0.03000845288743778\u001b[0m\n",
      "\u001b[34mEpoch: 6, BCELoss: 0.0373576392932814\u001b[0m\n",
      "\u001b[34mEpoch: 6, BCELoss: 0.045081788788036425\u001b[0m\n",
      "\u001b[34mEpoch: 6, BCELoss: 0.05323346232881351\u001b[0m\n",
      "\u001b[34mEpoch: 6, BCELoss: 0.06100839133165321\u001b[0m\n",
      "\u001b[34mEpoch: 6, BCELoss: 0.06801074621628742\u001b[0m\n",
      "\u001b[34mEpoch: 6, BCELoss: 0.07605022921854136\u001b[0m\n",
      "\u001b[34mEpoch: 6, BCELoss: 0.08418733733040946\u001b[0m\n",
      "\u001b[34mEpoch: 6, BCELoss: 0.09181666009280147\u001b[0m\n",
      "\u001b[34mEpoch: 6, BCELoss: 0.09904751728992073\u001b[0m\n",
      "\u001b[34mEpoch: 6, BCELoss: 0.10523357014266813\u001b[0m\n",
      "\u001b[34mEpoch: 6, BCELoss: 0.11281406088751189\u001b[0m\n",
      "\u001b[34mEpoch: 6, BCELoss: 0.12118951459320224\u001b[0m\n",
      "\u001b[34mEpoch: 6, BCELoss: 0.1285127176313984\u001b[0m\n",
      "\u001b[34mEpoch: 6, BCELoss: 0.13520532177419078\u001b[0m\n",
      "\u001b[34mEpoch: 6, BCELoss: 0.1427155739190627\u001b[0m\n",
      "\u001b[34mEpoch: 6, BCELoss: 0.14989916706571774\u001b[0m\n",
      "\u001b[34mEpoch: 6, BCELoss: 0.15718587989709815\u001b[0m\n",
      "\u001b[34mEpoch: 6, BCELoss: 0.16391565787548923\u001b[0m\n",
      "\u001b[34mEpoch: 6, BCELoss: 0.1722454264455912\u001b[0m\n",
      "\u001b[34mEpoch: 6, BCELoss: 0.1798200430918713\u001b[0m\n",
      "\u001b[34mEpoch: 6, BCELoss: 0.18672441158975875\u001b[0m\n",
      "\u001b[34mEpoch: 6, BCELoss: 0.19486247520057523\u001b[0m\n",
      "\u001b[34mEpoch: 6, BCELoss: 0.20266744616080304\u001b[0m\n",
      "\u001b[34mEpoch: 6, BCELoss: 0.2097264266743952\u001b[0m\n",
      "\u001b[34mEpoch: 6, BCELoss: 0.21557966847808993\u001b[0m\n",
      "\u001b[34mEpoch: 6, BCELoss: 0.22430471437317984\u001b[0m\n",
      "\u001b[34mEpoch: 6, BCELoss: 0.23175417586248748\u001b[0m\n",
      "\u001b[34mEpoch: 6, BCELoss: 0.23937532549001733\u001b[0m\n",
      "\u001b[34mEpoch: 6, BCELoss: 0.24707424640655518\u001b[0m\n",
      "\u001b[34mEpoch: 6, BCELoss: 0.25478288348840206\u001b[0m\n",
      "\u001b[34mEpoch: 6, BCELoss: 0.26257819058943765\u001b[0m\n",
      "\u001b[34mEpoch: 6, BCELoss: 0.27068270712482684\u001b[0m\n",
      "\u001b[34mEpoch: 6, BCELoss: 0.27963543303158817\u001b[0m\n",
      "\u001b[34mEpoch: 6, BCELoss: 0.2884089198647713\u001b[0m\n",
      "\u001b[34mEpoch: 6, BCELoss: 0.29673005914201545\u001b[0m\n",
      "\u001b[34mEpoch: 6, BCELoss: 0.3043715132742512\u001b[0m\n",
      "\u001b[34mEpoch: 6, BCELoss: 0.311941424802858\u001b[0m\n",
      "\u001b[34mEpoch: 6, BCELoss: 0.31909130848183925\u001b[0m\n",
      "\u001b[34mEpoch: 6, BCELoss: 0.3269764057227543\u001b[0m\n",
      "\u001b[34mEpoch: 6, BCELoss: 0.3339811891925578\u001b[0m\n",
      "\u001b[34mEpoch: 6, BCELoss: 0.34309776583496404\u001b[0m\n",
      "\u001b[34mEpoch: 6, BCELoss: 0.3518537070069994\u001b[0m\n",
      "\u001b[34mEpoch: 6, BCELoss: 0.35964266925441973\u001b[0m\n",
      "\u001b[34mEpoch: 6, BCELoss: 0.3671371736088578\u001b[0m\n",
      "\u001b[34mEpoch: 6, BCELoss: 0.3745373292845123\u001b[0m\n",
      "\u001b[34mEpoch: 7, BCELoss: 0.007432084910723628\u001b[0m\n",
      "\u001b[34mEpoch: 7, BCELoss: 0.01571846434048244\u001b[0m\n",
      "\u001b[34mEpoch: 7, BCELoss: 0.023577638426605537\u001b[0m\n",
      "\u001b[34mEpoch: 7, BCELoss: 0.03177806430933427\u001b[0m\n",
      "\u001b[34mEpoch: 7, BCELoss: 0.03927661569751039\u001b[0m\n",
      "\u001b[34mEpoch: 7, BCELoss: 0.04712897113391331\u001b[0m\n",
      "\u001b[34mEpoch: 7, BCELoss: 0.054922984570873024\u001b[0m\n",
      "\u001b[34mEpoch: 7, BCELoss: 0.062297784552282215\u001b[0m\n",
      "\u001b[34mEpoch: 7, BCELoss: 0.06922513976389048\u001b[0m\n",
      "\u001b[34mEpoch: 7, BCELoss: 0.07777849995360082\u001b[0m\n",
      "\u001b[34mEpoch: 7, BCELoss: 0.08593924313175436\u001b[0m\n",
      "\u001b[34mEpoch: 7, BCELoss: 0.09391566928552121\u001b[0m\n",
      "\u001b[34mEpoch: 7, BCELoss: 0.1020188471492456\u001b[0m\n",
      "\u001b[34mEpoch: 7, BCELoss: 0.10858743774647615\u001b[0m\n",
      "\u001b[34mEpoch: 7, BCELoss: 0.11631232500076294\u001b[0m\n",
      "\u001b[34mEpoch: 7, BCELoss: 0.12407370611112944\u001b[0m\n",
      "\u001b[34mEpoch: 7, BCELoss: 0.13133547014119673\u001b[0m\n",
      "\u001b[34mEpoch: 7, BCELoss: 0.13807221456449859\u001b[0m\n",
      "\u001b[34mEpoch: 7, BCELoss: 0.14501970459003838\u001b[0m\n",
      "\u001b[34mEpoch: 7, BCELoss: 0.15203356438753557\u001b[0m\n",
      "\u001b[34mEpoch: 7, BCELoss: 0.15885525941848755\u001b[0m\n",
      "\u001b[34mEpoch: 7, BCELoss: 0.1650511810974199\u001b[0m\n",
      "\u001b[34mEpoch: 7, BCELoss: 0.17292591077940805\u001b[0m\n",
      "\u001b[34mEpoch: 7, BCELoss: 0.18015447319770345\u001b[0m\n",
      "\u001b[34mEpoch: 7, BCELoss: 0.18598447162277845\u001b[0m\n",
      "\u001b[34mEpoch: 7, BCELoss: 0.1931815214303075\u001b[0m\n",
      "\u001b[34mEpoch: 7, BCELoss: 0.20011812387680522\u001b[0m\n",
      "\u001b[34mEpoch: 7, BCELoss: 0.20695373598410158\u001b[0m\n",
      "\u001b[34mEpoch: 7, BCELoss: 0.21327669584021278\u001b[0m\n",
      "\u001b[34mEpoch: 7, BCELoss: 0.22099004412183956\u001b[0m\n",
      "\u001b[34mEpoch: 7, BCELoss: 0.22760019132069179\u001b[0m\n",
      "\u001b[34mEpoch: 7, BCELoss: 0.23417318171384383\u001b[0m\n",
      "\u001b[34mEpoch: 7, BCELoss: 0.24195834629389704\u001b[0m\n",
      "\u001b[34mEpoch: 7, BCELoss: 0.24887725710868835\u001b[0m\n",
      "\u001b[34mEpoch: 7, BCELoss: 0.2554923636572702\u001b[0m\n",
      "\u001b[34mEpoch: 7, BCELoss: 0.26220005385729733\u001b[0m\n",
      "\u001b[34mEpoch: 7, BCELoss: 0.2701946685508806\u001b[0m\n",
      "\u001b[34mEpoch: 7, BCELoss: 0.27787867796664334\u001b[0m\n",
      "\u001b[34mEpoch: 7, BCELoss: 0.2853670552068827\u001b[0m\n",
      "\u001b[34mEpoch: 7, BCELoss: 0.29192659745411\u001b[0m\n",
      "\u001b[34mEpoch: 7, BCELoss: 0.2986075397656888\u001b[0m\n",
      "\u001b[34mEpoch: 7, BCELoss: 0.3047887670750521\u001b[0m\n",
      "\u001b[34mEpoch: 7, BCELoss: 0.31169022832598003\u001b[0m\n",
      "\u001b[34mEpoch: 7, BCELoss: 0.3186556271144322\u001b[0m\n",
      "\u001b[34mEpoch: 7, BCELoss: 0.326581498798059\u001b[0m\n",
      "\u001b[34mEpoch: 7, BCELoss: 0.33370838846479145\u001b[0m\n",
      "\u001b[34mEpoch: 7, BCELoss: 0.3401773456408053\u001b[0m\n",
      "\u001b[34mEpoch: 7, BCELoss: 0.346572037254061\u001b[0m\n",
      "\u001b[34mEpoch: 7, BCELoss: 0.3533526081211713\u001b[0m\n",
      "\u001b[34mEpoch: 8, BCELoss: 0.006733516649324067\u001b[0m\n",
      "\u001b[34mEpoch: 8, BCELoss: 0.013464568220839208\u001b[0m\n",
      "\u001b[34mEpoch: 8, BCELoss: 0.02041023543902806\u001b[0m\n",
      "\u001b[34mEpoch: 8, BCELoss: 0.027802505663463047\u001b[0m\n",
      "\u001b[34mEpoch: 8, BCELoss: 0.03456254333865886\u001b[0m\n",
      "\u001b[34mEpoch: 8, BCELoss: 0.04140122508516117\u001b[0m\n",
      "\u001b[34mEpoch: 8, BCELoss: 0.0485438199675813\u001b[0m\n",
      "\u001b[34mEpoch: 8, BCELoss: 0.05518032397542681\u001b[0m\n",
      "\u001b[34mEpoch: 8, BCELoss: 0.06132327293863102\u001b[0m\n",
      "\u001b[34mEpoch: 8, BCELoss: 0.06879239848681859\u001b[0m\n",
      "\u001b[34mEpoch: 8, BCELoss: 0.07561004465940047\u001b[0m\n",
      "\u001b[34mEpoch: 8, BCELoss: 0.08276343832210618\u001b[0m\n",
      "\u001b[34mEpoch: 8, BCELoss: 0.08914948665365881\u001b[0m\n",
      "\u001b[34mEpoch: 8, BCELoss: 0.09480789547063867\u001b[0m\n",
      "\u001b[34mEpoch: 8, BCELoss: 0.10150776043230174\u001b[0m\n",
      "\u001b[34mEpoch: 8, BCELoss: 0.10844757423108937\u001b[0m\n",
      "\u001b[34mEpoch: 8, BCELoss: 0.11468388839643828\u001b[0m\n",
      "\u001b[34mEpoch: 8, BCELoss: 0.12071654869585621\u001b[0m\n",
      "\u001b[34mEpoch: 8, BCELoss: 0.12664709711561398\u001b[0m\n",
      "\u001b[34mEpoch: 8, BCELoss: 0.13293252915752177\u001b[0m\n",
      "\u001b[34mEpoch: 8, BCELoss: 0.13986091285335775\u001b[0m\n",
      "\u001b[34mEpoch: 8, BCELoss: 0.14562950328904756\u001b[0m\n",
      "\u001b[34mEpoch: 8, BCELoss: 0.15222426275817716\u001b[0m\n",
      "\u001b[34mEpoch: 8, BCELoss: 0.15873010000404048\u001b[0m\n",
      "\u001b[34mEpoch: 8, BCELoss: 0.16410298736727968\u001b[0m\n",
      "\u001b[34mEpoch: 8, BCELoss: 0.17020244136148568\u001b[0m\n",
      "\u001b[34mEpoch: 8, BCELoss: 0.17614561805919726\u001b[0m\n",
      "\u001b[34mEpoch: 8, BCELoss: 0.1812122178320982\u001b[0m\n",
      "\u001b[34mEpoch: 8, BCELoss: 0.18612853422456857\u001b[0m\n",
      "\u001b[34mEpoch: 8, BCELoss: 0.19307034903643083\u001b[0m\n",
      "\u001b[34mEpoch: 8, BCELoss: 0.1990024526508487\u001b[0m\n",
      "\u001b[34mEpoch: 8, BCELoss: 0.20444342919758388\u001b[0m\n",
      "\u001b[34mEpoch: 8, BCELoss: 0.21071273149276265\u001b[0m\n",
      "\u001b[34mEpoch: 8, BCELoss: 0.21684883200392432\u001b[0m\n",
      "\u001b[34mEpoch: 8, BCELoss: 0.222761047737939\u001b[0m\n",
      "\u001b[34mEpoch: 8, BCELoss: 0.22861433150816937\u001b[0m\n",
      "\u001b[34mEpoch: 8, BCELoss: 0.2361013019571499\u001b[0m\n",
      "\u001b[34mEpoch: 8, BCELoss: 0.24220424951339253\u001b[0m\n",
      "\u001b[34mEpoch: 8, BCELoss: 0.24817775037823891\u001b[0m\n",
      "\u001b[34mEpoch: 8, BCELoss: 0.2533929597358314\u001b[0m\n",
      "\u001b[34mEpoch: 8, BCELoss: 0.25931618225817776\u001b[0m\n",
      "\u001b[34mEpoch: 8, BCELoss: 0.2649089359507269\u001b[0m\n",
      "\u001b[34mEpoch: 8, BCELoss: 0.27089696331899993\u001b[0m\n",
      "\u001b[34mEpoch: 8, BCELoss: 0.2765723643254261\u001b[0m\n",
      "\u001b[34mEpoch: 8, BCELoss: 0.28309090161810113\u001b[0m\n",
      "\u001b[34mEpoch: 8, BCELoss: 0.28934329261585157\u001b[0m\n",
      "\u001b[34mEpoch: 8, BCELoss: 0.29521103659454656\u001b[0m\n",
      "\u001b[34mEpoch: 8, BCELoss: 0.30086035509498754\u001b[0m\n",
      "\u001b[34mEpoch: 8, BCELoss: 0.3065939198951332\u001b[0m\n",
      "\u001b[34mEpoch: 9, BCELoss: 0.006866969624344184\u001b[0m\n",
      "\u001b[34mEpoch: 9, BCELoss: 0.012181849504003719\u001b[0m\n",
      "\u001b[34mEpoch: 9, BCELoss: 0.01914561342219917\u001b[0m\n",
      "\u001b[34mEpoch: 9, BCELoss: 0.026624307340505173\u001b[0m\n",
      "\u001b[34mEpoch: 9, BCELoss: 0.03329096035081513\u001b[0m\n",
      "\u001b[34mEpoch: 9, BCELoss: 0.03960506283507055\u001b[0m\n",
      "\u001b[34mEpoch: 9, BCELoss: 0.046729164464133124\u001b[0m\n",
      "\u001b[34mEpoch: 9, BCELoss: 0.05312176748197906\u001b[0m\n",
      "\u001b[34mEpoch: 9, BCELoss: 0.05879085891100825\u001b[0m\n",
      "\u001b[34mEpoch: 9, BCELoss: 0.06579522149903434\u001b[0m\n",
      "\u001b[34mEpoch: 9, BCELoss: 0.07300633252883444\u001b[0m\n",
      "\u001b[34mEpoch: 9, BCELoss: 0.08005549713056914\u001b[0m\n",
      "\u001b[34mEpoch: 9, BCELoss: 0.08652675760035612\u001b[0m\n",
      "\u001b[34mEpoch: 9, BCELoss: 0.09236027269947286\u001b[0m\n",
      "\u001b[34mEpoch: 9, BCELoss: 0.09898415876894581\u001b[0m\n",
      "\u001b[34mEpoch: 9, BCELoss: 0.10589573334674446\u001b[0m\n",
      "\u001b[34mEpoch: 9, BCELoss: 0.1125661317183047\u001b[0m\n",
      "\u001b[34mEpoch: 9, BCELoss: 0.11835903902443087\u001b[0m\n",
      "\u001b[34mEpoch: 9, BCELoss: 0.12395139920468233\u001b[0m\n",
      "\u001b[34mEpoch: 9, BCELoss: 0.1297607172508629\u001b[0m\n",
      "\u001b[34mEpoch: 9, BCELoss: 0.13602351716586522\u001b[0m\n",
      "\u001b[34mEpoch: 9, BCELoss: 0.1413940501456358\u001b[0m\n",
      "\u001b[34mEpoch: 9, BCELoss: 0.14751647990577074\u001b[0m\n",
      "\u001b[34mEpoch: 9, BCELoss: 0.15329986080831412\u001b[0m\n",
      "\u001b[34mEpoch: 9, BCELoss: 0.15818451983588083\u001b[0m\n",
      "\u001b[34mEpoch: 9, BCELoss: 0.16481428426139208\u001b[0m\n",
      "\u001b[34mEpoch: 9, BCELoss: 0.17031605328832353\u001b[0m\n",
      "\u001b[34mEpoch: 9, BCELoss: 0.1760490944190901\u001b[0m\n",
      "\u001b[34mEpoch: 9, BCELoss: 0.18140593231940755\u001b[0m\n",
      "\u001b[34mEpoch: 9, BCELoss: 0.18806954184357\u001b[0m\n",
      "\u001b[34mEpoch: 9, BCELoss: 0.19394782672123034\u001b[0m\n",
      "\u001b[34mEpoch: 9, BCELoss: 0.1993131296975272\u001b[0m\n",
      "\u001b[34mEpoch: 9, BCELoss: 0.20606759433843652\u001b[0m\n",
      "\u001b[34mEpoch: 9, BCELoss: 0.21206774577802542\u001b[0m\n",
      "\u001b[34mEpoch: 9, BCELoss: 0.21773605139888064\u001b[0m\n",
      "\u001b[34mEpoch: 9, BCELoss: 0.2234089739468633\u001b[0m\n",
      "\u001b[34mEpoch: 9, BCELoss: 0.2306812180548298\u001b[0m\n",
      "\u001b[34mEpoch: 9, BCELoss: 0.23679139115372483\u001b[0m\n",
      "\u001b[34mEpoch: 9, BCELoss: 0.24267158702928193\u001b[0m\n",
      "\u001b[34mEpoch: 9, BCELoss: 0.24798219179620548\u001b[0m\n",
      "\u001b[34mEpoch: 9, BCELoss: 0.2536369708119606\u001b[0m\n",
      "\u001b[34mEpoch: 9, BCELoss: 0.25885254874521374\u001b[0m\n",
      "\u001b[34mEpoch: 9, BCELoss: 0.2646981970388062\u001b[0m\n",
      "\u001b[34mEpoch: 9, BCELoss: 0.2703834431512015\u001b[0m\n",
      "\u001b[34mEpoch: 9, BCELoss: 0.27687716788175154\u001b[0m\n",
      "\u001b[34mEpoch: 9, BCELoss: 0.28300473945481436\u001b[0m\n",
      "\u001b[34mEpoch: 9, BCELoss: 0.28872512128888345\u001b[0m\n",
      "\u001b[34mEpoch: 9, BCELoss: 0.29421419574289903\u001b[0m\n",
      "\u001b[34mEpoch: 9, BCELoss: 0.29947526296790766\u001b[0m\n",
      "\u001b[34mEpoch: 10, BCELoss: 0.006005149714800776\u001b[0m\n",
      "\u001b[34mEpoch: 10, BCELoss: 0.01158157720857737\u001b[0m\n",
      "\u001b[34mEpoch: 10, BCELoss: 0.01824141217737782\u001b[0m\n",
      "\u001b[34mEpoch: 10, BCELoss: 0.0252483602689237\u001b[0m\n",
      "\u001b[34mEpoch: 10, BCELoss: 0.031566638119366705\u001b[0m\n",
      "\u001b[34mEpoch: 10, BCELoss: 0.037912750730709155\u001b[0m\n",
      "\u001b[34mEpoch: 10, BCELoss: 0.04502153761532842\u001b[0m\n",
      "\u001b[34mEpoch: 10, BCELoss: 0.05159150580970608\u001b[0m\n",
      "\u001b[34mEpoch: 10, BCELoss: 0.05712088151853912\u001b[0m\n",
      "\u001b[34mEpoch: 10, BCELoss: 0.06404321108545576\u001b[0m\n",
      "\u001b[34mEpoch: 10, BCELoss: 0.07023623889806319\u001b[0m\n",
      "\u001b[34mEpoch: 10, BCELoss: 0.07776040264538356\u001b[0m\n",
      "\u001b[34mEpoch: 10, BCELoss: 0.08319199510983058\u001b[0m\n",
      "\u001b[34mEpoch: 10, BCELoss: 0.08842644825273631\u001b[0m\n",
      "\u001b[34mEpoch: 10, BCELoss: 0.09477224276990306\u001b[0m\n",
      "\u001b[34mEpoch: 10, BCELoss: 0.10116624588869055\u001b[0m\n",
      "\u001b[34mEpoch: 10, BCELoss: 0.10687870152142583\u001b[0m\n",
      "\u001b[34mEpoch: 10, BCELoss: 0.11185852787932571\u001b[0m\n",
      "\u001b[34mEpoch: 10, BCELoss: 0.11686068590806455\u001b[0m\n",
      "\u001b[34mEpoch: 10, BCELoss: 0.12247732464148074\u001b[0m\n",
      "\u001b[34mEpoch: 10, BCELoss: 0.1288269794717127\u001b[0m\n",
      "\u001b[34mEpoch: 10, BCELoss: 0.13471726191287137\u001b[0m\n",
      "\u001b[34mEpoch: 10, BCELoss: 0.14170384711148787\u001b[0m\n",
      "\u001b[34mEpoch: 10, BCELoss: 0.14789348962355633\u001b[0m\n",
      "\u001b[34mEpoch: 10, BCELoss: 0.15362488432806365\u001b[0m\n",
      "\u001b[34mEpoch: 10, BCELoss: 0.1596576468068726\u001b[0m\n",
      "\u001b[34mEpoch: 10, BCELoss: 0.1657094377644208\u001b[0m\n",
      "\u001b[34mEpoch: 10, BCELoss: 0.17146621796549583\u001b[0m\n",
      "\u001b[34mEpoch: 10, BCELoss: 0.17659196135949115\u001b[0m\n",
      "\u001b[34mEpoch: 10, BCELoss: 0.18313682505062648\u001b[0m\n",
      "\u001b[34mEpoch: 10, BCELoss: 0.1887220448377181\u001b[0m\n",
      "\u001b[34mEpoch: 10, BCELoss: 0.19413537516885873\u001b[0m\n",
      "\u001b[34mEpoch: 10, BCELoss: 0.2003283141827097\u001b[0m\n",
      "\n",
      "2021-08-14 07:48:58 Uploading - Uploading generated training model\u001b[34mEpoch: 10, BCELoss: 0.2058441596371787\u001b[0m\n",
      "\u001b[34mEpoch: 10, BCELoss: 0.2112579844435867\u001b[0m\n",
      "\u001b[34mEpoch: 10, BCELoss: 0.21704094446435265\u001b[0m\n",
      "\u001b[34mEpoch: 10, BCELoss: 0.2239810246594098\u001b[0m\n",
      "\u001b[34mEpoch: 10, BCELoss: 0.23004197162024828\u001b[0m\n",
      "\u001b[34mEpoch: 10, BCELoss: 0.23565865414483206\u001b[0m\n",
      "\u001b[34mEpoch: 10, BCELoss: 0.2406047713391635\u001b[0m\n",
      "\u001b[34mEpoch: 10, BCELoss: 0.24581565510253517\u001b[0m\n",
      "\u001b[34mEpoch: 10, BCELoss: 0.25093685029720775\u001b[0m\n",
      "\u001b[34mEpoch: 10, BCELoss: 0.25648791419000044\u001b[0m\n",
      "\u001b[34mEpoch: 10, BCELoss: 0.2620120008989256\u001b[0m\n",
      "\u001b[34mEpoch: 10, BCELoss: 0.26844667749745504\u001b[0m\n",
      "\u001b[34mEpoch: 10, BCELoss: 0.27432431463076146\u001b[0m\n",
      "\u001b[34mEpoch: 10, BCELoss: 0.279698161142213\u001b[0m\n",
      "\u001b[34mEpoch: 10, BCELoss: 0.28515336981841494\u001b[0m\n",
      "\u001b[34mEpoch: 10, BCELoss: 0.2902471845855518\u001b[0m\n",
      "\u001b[34m2021-08-14 07:48:53,877 sagemaker-containers INFO     Reporting training SUCCESS\u001b[0m\n",
      "\n",
      "2021-08-14 07:49:04 Completed - Training job completed\n",
      "Training seconds: 281\n",
      "Billable seconds: 281\n"
     ]
    }
   ],
   "source": [
    "estimator.fit({'training': input_data})"
   ]
  },
  {
   "cell_type": "markdown",
   "metadata": {},
   "source": [
    "## Step 5: Testing the model\n",
    "\n",
    "As mentioned at the top of this notebook, we will be testing this model by first deploying it and then sending the testing data to the deployed endpoint. We will do this so that we can make sure that the deployed model is working correctly.\n",
    "\n",
    "## Step 6: Deploy the model for testing\n",
    "\n",
    "Now that we have trained our model, we would like to test it to see how it performs. Currently our model takes input of the form `review_length, review[500]` where `review[500]` is a sequence of `500` integers which describe the words present in the review, encoded using `word_dict`. Fortunately for us, SageMaker provides built-in inference code for models with simple inputs such as this.\n",
    "\n",
    "There is one thing that we need to provide, however, and that is a function which loads the saved model. This function must be called `model_fn()` and takes as its only parameter a path to the directory where the model artifacts are stored. This function must also be present in the python file which we specified as the entry point. In our case the model loading function has been provided and so no changes need to be made.\n",
    "\n",
    "**NOTE**: When the built-in inference code is run it must import the `model_fn()` method from the `train.py` file. This is why the training code is wrapped in a main guard ( ie, `if __name__ == '__main__':` )\n",
    "\n",
    "Since we don't need to change anything in the code that was uploaded during training, we can simply deploy the current model as-is.\n",
    "\n",
    "**NOTE:** When deploying a model you are asking SageMaker to launch an compute instance that will wait for data to be sent to it. As a result, this compute instance will continue to run until *you* shut it down. This is important to know since the cost of a deployed endpoint depends on how long it has been running for.\n",
    "\n",
    "In other words **If you are no longer using a deployed endpoint, shut it down!**\n",
    "\n",
    "**TODO:** Deploy the trained model."
   ]
  },
  {
   "cell_type": "code",
   "execution_count": 29,
   "metadata": {},
   "outputs": [
    {
     "name": "stderr",
     "output_type": "stream",
     "text": [
      "Parameter image will be renamed to image_uri in SageMaker Python SDK v2.\n",
      "'create_image_uri' will be deprecated in favor of 'ImageURIProvider' class in SageMaker Python SDK v2.\n"
     ]
    },
    {
     "name": "stdout",
     "output_type": "stream",
     "text": [
      "---------!"
     ]
    }
   ],
   "source": [
    "# TODO: Deploy the trained model\n",
    "predictor = estimator.deploy(initial_instance_count = 1, instance_type = 'ml.p2.xlarge')"
   ]
  },
  {
   "cell_type": "markdown",
   "metadata": {},
   "source": [
    "## Step 7 - Use the model for testing\n",
    "\n",
    "Once deployed, we can read in the test data and send it off to our deployed model to get some results. Once we collect all of the results we can determine how accurate our model is."
   ]
  },
  {
   "cell_type": "code",
   "execution_count": 30,
   "metadata": {},
   "outputs": [],
   "source": [
    "test_X = pd.concat([pd.DataFrame(test_X_len), pd.DataFrame(test_X)], axis=1)"
   ]
  },
  {
   "cell_type": "code",
   "execution_count": 31,
   "metadata": {},
   "outputs": [],
   "source": [
    "# We split the data into chunks and send each chunk seperately, accumulating the results.\n",
    "\n",
    "def predict(data, rows=512):\n",
    "    split_array = np.array_split(data, int(data.shape[0] / float(rows) + 1))\n",
    "    predictions = np.array([])\n",
    "    for array in split_array:\n",
    "        predictions = np.append(predictions, predictor.predict(array))\n",
    "    \n",
    "    return predictions"
   ]
  },
  {
   "cell_type": "code",
   "execution_count": 32,
   "metadata": {},
   "outputs": [],
   "source": [
    "predictions = predict(test_X.values)\n",
    "predictions = [round(num) for num in predictions]"
   ]
  },
  {
   "cell_type": "code",
   "execution_count": 33,
   "metadata": {},
   "outputs": [
    {
     "data": {
      "text/plain": [
       "0.8402"
      ]
     },
     "execution_count": 33,
     "metadata": {},
     "output_type": "execute_result"
    }
   ],
   "source": [
    "from sklearn.metrics import accuracy_score\n",
    "accuracy_score(test_y, predictions)"
   ]
  },
  {
   "cell_type": "markdown",
   "metadata": {},
   "source": [
    "**Question:** How does this model compare to the XGBoost model you created earlier? Why might these two models perform differently on this dataset? Which do *you* think is better for sentiment analysis?"
   ]
  },
  {
   "cell_type": "markdown",
   "metadata": {},
   "source": [
    "**Answer:** The deployment is the same a for the XGBoost as for the LSTM. I assume the LSTM is deeper than the XGBoost, resulting in a better accuracy. Also, RNNs are good for sentiment analysis as they include the order of the words compared to XGBoost. Additionally, data cleaning and preparation might give better results to train on."
   ]
  },
  {
   "cell_type": "markdown",
   "metadata": {},
   "source": [
    "### (TODO) More testing\n",
    "\n",
    "We now have a trained model which has been deployed and which we can send processed reviews to and which returns the predicted sentiment. However, ultimately we would like to be able to send our model an unprocessed review. That is, we would like to send the review itself as a string. For example, suppose we wish to send the following review to our model."
   ]
  },
  {
   "cell_type": "code",
   "execution_count": 34,
   "metadata": {},
   "outputs": [],
   "source": [
    "test_review = 'The simplest pleasures in life are the best, and this film is one of them. Combining a rather basic storyline of love and adventure this movie transcends the usual weekend fair with wit and unmitigated charm.'"
   ]
  },
  {
   "cell_type": "markdown",
   "metadata": {},
   "source": [
    "The question we now need to answer is, how do we send this review to our model?\n",
    "\n",
    "Recall in the first section of this notebook we did a bunch of data processing to the IMDb dataset. In particular, we did two specific things to the provided reviews.\n",
    " - Removed any html tags and stemmed the input\n",
    " - Encoded the review as a sequence of integers using `word_dict`\n",
    " \n",
    "In order process the review we will need to repeat these two steps.\n",
    "\n",
    "**TODO**: Using the `review_to_words` and `convert_and_pad` methods from section one, convert `test_review` into a numpy array `test_data` suitable to send to our model. Remember that our model expects input of the form `review_length, review[500]`."
   ]
  },
  {
   "cell_type": "code",
   "execution_count": 35,
   "metadata": {},
   "outputs": [],
   "source": [
    "# TODO: Convert test_review into a form usable by the model and save the results in test_data\n",
    "review_list, review_length = convert_and_pad(word_dict, review_to_words(test_review))\n",
    "test_data = [np.array([review_length] + review_list)]"
   ]
  },
  {
   "cell_type": "markdown",
   "metadata": {},
   "source": [
    "Now that we have processed the review, we can send the resulting array to our model to predict the sentiment of the review."
   ]
  },
  {
   "cell_type": "code",
   "execution_count": 36,
   "metadata": {},
   "outputs": [
    {
     "data": {
      "text/plain": [
       "array(0.728529, dtype=float32)"
      ]
     },
     "execution_count": 36,
     "metadata": {},
     "output_type": "execute_result"
    }
   ],
   "source": [
    "predictor.predict(test_data)"
   ]
  },
  {
   "cell_type": "markdown",
   "metadata": {},
   "source": [
    "Since the return value of our model is close to `1`, we can be certain that the review we submitted is positive."
   ]
  },
  {
   "cell_type": "markdown",
   "metadata": {},
   "source": [
    "### Delete the endpoint\n",
    "\n",
    "Of course, just like in the XGBoost notebook, once we've deployed an endpoint it continues to run until we tell it to shut down. Since we are done using our endpoint for now, we can delete it."
   ]
  },
  {
   "cell_type": "code",
   "execution_count": 37,
   "metadata": {},
   "outputs": [
    {
     "name": "stderr",
     "output_type": "stream",
     "text": [
      "estimator.delete_endpoint() will be deprecated in SageMaker Python SDK v2. Please use the delete_endpoint() function on your predictor instead.\n"
     ]
    }
   ],
   "source": [
    "estimator.delete_endpoint()"
   ]
  },
  {
   "cell_type": "markdown",
   "metadata": {},
   "source": [
    "## Step 6 (again) - Deploy the model for the web app\n",
    "\n",
    "Now that we know that our model is working, it's time to create some custom inference code so that we can send the model a review which has not been processed and have it determine the sentiment of the review.\n",
    "\n",
    "As we saw above, by default the estimator which we created, when deployed, will use the entry script and directory which we provided when creating the model. However, since we now wish to accept a string as input and our model expects a processed review, we need to write some custom inference code.\n",
    "\n",
    "We will store the code that we write in the `serve` directory. Provided in this directory is the `model.py` file that we used to construct our model, a `utils.py` file which contains the `review_to_words` and `convert_and_pad` pre-processing functions which we used during the initial data processing, and `predict.py`, the file which will contain our custom inference code. Note also that `requirements.txt` is present which will tell SageMaker what Python libraries are required by our custom inference code.\n",
    "\n",
    "When deploying a PyTorch model in SageMaker, you are expected to provide four functions which the SageMaker inference container will use.\n",
    " - `model_fn`: This function is the same function that we used in the training script and it tells SageMaker how to load our model.\n",
    " - `input_fn`: This function receives the raw serialized input that has been sent to the model's endpoint and its job is to de-serialize and make the input available for the inference code.\n",
    " - `output_fn`: This function takes the output of the inference code and its job is to serialize this output and return it to the caller of the model's endpoint.\n",
    " - `predict_fn`: The heart of the inference script, this is where the actual prediction is done and is the function which you will need to complete.\n",
    "\n",
    "For the simple website that we are constructing during this project, the `input_fn` and `output_fn` methods are relatively straightforward. We only require being able to accept a string as input and we expect to return a single value as output. You might imagine though that in a more complex application the input or output may be image data or some other binary data which would require some effort to serialize.\n",
    "\n",
    "### (TODO) Writing inference code\n",
    "\n",
    "Before writing our custom inference code, we will begin by taking a look at the code which has been provided."
   ]
  },
  {
   "cell_type": "code",
   "execution_count": 49,
   "metadata": {},
   "outputs": [
    {
     "name": "stdout",
     "output_type": "stream",
     "text": [
      "\u001b[34mimport\u001b[39;49;00m \u001b[04m\u001b[36margparse\u001b[39;49;00m\n",
      "\u001b[34mimport\u001b[39;49;00m \u001b[04m\u001b[36mjson\u001b[39;49;00m\n",
      "\u001b[34mimport\u001b[39;49;00m \u001b[04m\u001b[36mos\u001b[39;49;00m\n",
      "\u001b[34mimport\u001b[39;49;00m \u001b[04m\u001b[36mpickle\u001b[39;49;00m\n",
      "\u001b[34mimport\u001b[39;49;00m \u001b[04m\u001b[36msys\u001b[39;49;00m\n",
      "\u001b[34mimport\u001b[39;49;00m \u001b[04m\u001b[36msagemaker_containers\u001b[39;49;00m\n",
      "\u001b[34mimport\u001b[39;49;00m \u001b[04m\u001b[36mpandas\u001b[39;49;00m \u001b[34mas\u001b[39;49;00m \u001b[04m\u001b[36mpd\u001b[39;49;00m\n",
      "\u001b[34mimport\u001b[39;49;00m \u001b[04m\u001b[36mnumpy\u001b[39;49;00m \u001b[34mas\u001b[39;49;00m \u001b[04m\u001b[36mnp\u001b[39;49;00m\n",
      "\u001b[34mimport\u001b[39;49;00m \u001b[04m\u001b[36mtorch\u001b[39;49;00m\n",
      "\u001b[34mimport\u001b[39;49;00m \u001b[04m\u001b[36mtorch\u001b[39;49;00m\u001b[04m\u001b[36m.\u001b[39;49;00m\u001b[04m\u001b[36mnn\u001b[39;49;00m \u001b[34mas\u001b[39;49;00m \u001b[04m\u001b[36mnn\u001b[39;49;00m\n",
      "\u001b[34mimport\u001b[39;49;00m \u001b[04m\u001b[36mtorch\u001b[39;49;00m\u001b[04m\u001b[36m.\u001b[39;49;00m\u001b[04m\u001b[36moptim\u001b[39;49;00m \u001b[34mas\u001b[39;49;00m \u001b[04m\u001b[36moptim\u001b[39;49;00m\n",
      "\u001b[34mimport\u001b[39;49;00m \u001b[04m\u001b[36mtorch\u001b[39;49;00m\u001b[04m\u001b[36m.\u001b[39;49;00m\u001b[04m\u001b[36mutils\u001b[39;49;00m\u001b[04m\u001b[36m.\u001b[39;49;00m\u001b[04m\u001b[36mdata\u001b[39;49;00m\n",
      "\n",
      "\u001b[34mfrom\u001b[39;49;00m \u001b[04m\u001b[36mmodel\u001b[39;49;00m \u001b[34mimport\u001b[39;49;00m LSTMClassifier\n",
      "\n",
      "\u001b[34mfrom\u001b[39;49;00m \u001b[04m\u001b[36mutils\u001b[39;49;00m \u001b[34mimport\u001b[39;49;00m review_to_words, convert_and_pad\n",
      "\n",
      "\u001b[34mdef\u001b[39;49;00m \u001b[32mmodel_fn\u001b[39;49;00m(model_dir):\n",
      "    \u001b[33m\"\"\"Load the PyTorch model from the `model_dir` directory.\"\"\"\u001b[39;49;00m\n",
      "    \u001b[36mprint\u001b[39;49;00m(\u001b[33m\"\u001b[39;49;00m\u001b[33mLoading model.\u001b[39;49;00m\u001b[33m\"\u001b[39;49;00m)\n",
      "\n",
      "    \u001b[37m# First, load the parameters used to create the model.\u001b[39;49;00m\n",
      "    model_info = {}\n",
      "    model_info_path = os.path.join(model_dir, \u001b[33m'\u001b[39;49;00m\u001b[33mmodel_info.pth\u001b[39;49;00m\u001b[33m'\u001b[39;49;00m)\n",
      "    \u001b[34mwith\u001b[39;49;00m \u001b[36mopen\u001b[39;49;00m(model_info_path, \u001b[33m'\u001b[39;49;00m\u001b[33mrb\u001b[39;49;00m\u001b[33m'\u001b[39;49;00m) \u001b[34mas\u001b[39;49;00m f:\n",
      "        model_info = torch.load(f)\n",
      "\n",
      "    \u001b[36mprint\u001b[39;49;00m(\u001b[33m\"\u001b[39;49;00m\u001b[33mmodel_info: \u001b[39;49;00m\u001b[33m{}\u001b[39;49;00m\u001b[33m\"\u001b[39;49;00m.format(model_info))\n",
      "\n",
      "    \u001b[37m# Determine the device and construct the model.\u001b[39;49;00m\n",
      "    device = torch.device(\u001b[33m\"\u001b[39;49;00m\u001b[33mcuda\u001b[39;49;00m\u001b[33m\"\u001b[39;49;00m \u001b[34mif\u001b[39;49;00m torch.cuda.is_available() \u001b[34melse\u001b[39;49;00m \u001b[33m\"\u001b[39;49;00m\u001b[33mcpu\u001b[39;49;00m\u001b[33m\"\u001b[39;49;00m)\n",
      "    model = LSTMClassifier(model_info[\u001b[33m'\u001b[39;49;00m\u001b[33membedding_dim\u001b[39;49;00m\u001b[33m'\u001b[39;49;00m], model_info[\u001b[33m'\u001b[39;49;00m\u001b[33mhidden_dim\u001b[39;49;00m\u001b[33m'\u001b[39;49;00m], model_info[\u001b[33m'\u001b[39;49;00m\u001b[33mvocab_size\u001b[39;49;00m\u001b[33m'\u001b[39;49;00m])\n",
      "\n",
      "    \u001b[37m# Load the store model parameters.\u001b[39;49;00m\n",
      "    model_path = os.path.join(model_dir, \u001b[33m'\u001b[39;49;00m\u001b[33mmodel.pth\u001b[39;49;00m\u001b[33m'\u001b[39;49;00m)\n",
      "    \u001b[34mwith\u001b[39;49;00m \u001b[36mopen\u001b[39;49;00m(model_path, \u001b[33m'\u001b[39;49;00m\u001b[33mrb\u001b[39;49;00m\u001b[33m'\u001b[39;49;00m) \u001b[34mas\u001b[39;49;00m f:\n",
      "        model.load_state_dict(torch.load(f))\n",
      "\n",
      "    \u001b[37m# Load the saved word_dict.\u001b[39;49;00m\n",
      "    word_dict_path = os.path.join(model_dir, \u001b[33m'\u001b[39;49;00m\u001b[33mword_dict.pkl\u001b[39;49;00m\u001b[33m'\u001b[39;49;00m)\n",
      "    \u001b[34mwith\u001b[39;49;00m \u001b[36mopen\u001b[39;49;00m(word_dict_path, \u001b[33m'\u001b[39;49;00m\u001b[33mrb\u001b[39;49;00m\u001b[33m'\u001b[39;49;00m) \u001b[34mas\u001b[39;49;00m f:\n",
      "        model.word_dict = pickle.load(f)\n",
      "\n",
      "    model.to(device).eval()\n",
      "\n",
      "    \u001b[36mprint\u001b[39;49;00m(\u001b[33m\"\u001b[39;49;00m\u001b[33mDone loading model.\u001b[39;49;00m\u001b[33m\"\u001b[39;49;00m)\n",
      "    \u001b[34mreturn\u001b[39;49;00m model\n",
      "\n",
      "\u001b[34mdef\u001b[39;49;00m \u001b[32minput_fn\u001b[39;49;00m(serialized_input_data, content_type):\n",
      "    \u001b[36mprint\u001b[39;49;00m(\u001b[33m'\u001b[39;49;00m\u001b[33mDeserializing the input data.\u001b[39;49;00m\u001b[33m'\u001b[39;49;00m)\n",
      "    \u001b[34mif\u001b[39;49;00m content_type == \u001b[33m'\u001b[39;49;00m\u001b[33mtext/plain\u001b[39;49;00m\u001b[33m'\u001b[39;49;00m:\n",
      "        data = serialized_input_data.decode(\u001b[33m'\u001b[39;49;00m\u001b[33mutf-8\u001b[39;49;00m\u001b[33m'\u001b[39;49;00m)\n",
      "        \u001b[34mreturn\u001b[39;49;00m data\n",
      "    \u001b[34mraise\u001b[39;49;00m \u001b[36mException\u001b[39;49;00m(\u001b[33m'\u001b[39;49;00m\u001b[33mRequested unsupported ContentType in content_type: \u001b[39;49;00m\u001b[33m'\u001b[39;49;00m + content_type)\n",
      "\n",
      "\u001b[34mdef\u001b[39;49;00m \u001b[32moutput_fn\u001b[39;49;00m(prediction_output, accept):\n",
      "    \u001b[36mprint\u001b[39;49;00m(\u001b[33m'\u001b[39;49;00m\u001b[33mSerializing the generated output.\u001b[39;49;00m\u001b[33m'\u001b[39;49;00m)\n",
      "    \u001b[34mreturn\u001b[39;49;00m \u001b[36mstr\u001b[39;49;00m(prediction_output)\n",
      "\n",
      "\u001b[34mdef\u001b[39;49;00m \u001b[32mpredict_fn\u001b[39;49;00m(input_data, model):\n",
      "    \u001b[36mprint\u001b[39;49;00m(\u001b[33m'\u001b[39;49;00m\u001b[33mInferring sentiment of input data.\u001b[39;49;00m\u001b[33m'\u001b[39;49;00m)\n",
      "\n",
      "    device = torch.device(\u001b[33m\"\u001b[39;49;00m\u001b[33mcuda\u001b[39;49;00m\u001b[33m\"\u001b[39;49;00m \u001b[34mif\u001b[39;49;00m torch.cuda.is_available() \u001b[34melse\u001b[39;49;00m \u001b[33m\"\u001b[39;49;00m\u001b[33mcpu\u001b[39;49;00m\u001b[33m\"\u001b[39;49;00m)\n",
      "    \n",
      "    \u001b[34mif\u001b[39;49;00m model.word_dict \u001b[35mis\u001b[39;49;00m \u001b[34mNone\u001b[39;49;00m:\n",
      "        \u001b[34mraise\u001b[39;49;00m \u001b[36mException\u001b[39;49;00m(\u001b[33m'\u001b[39;49;00m\u001b[33mModel has not been loaded properly, no word_dict.\u001b[39;49;00m\u001b[33m'\u001b[39;49;00m)\n",
      "    \n",
      "    \u001b[37m# TODO: Process input_data so that it is ready to be sent to our model.\u001b[39;49;00m\n",
      "    \u001b[37m#       You should produce two variables:\u001b[39;49;00m\n",
      "    \u001b[37m#         data_X   - A sequence of length 500 which represents the converted review\u001b[39;49;00m\n",
      "    \u001b[37m#         data_len - The length of the review\u001b[39;49;00m\n",
      "\n",
      "    data_X, data_len = convert_and_pad(model.word_dict, review_to_words(input_data))\n",
      "\n",
      "    \u001b[37m# Using data_X and data_len we construct an appropriate input tensor. Remember\u001b[39;49;00m\n",
      "    \u001b[37m# that our model expects input data of the form 'len, review[500]'.\u001b[39;49;00m\n",
      "    data_pack = np.hstack((data_len, data_X))\n",
      "    data_pack = data_pack.reshape(\u001b[34m1\u001b[39;49;00m, -\u001b[34m1\u001b[39;49;00m)\n",
      "    \n",
      "    data = torch.from_numpy(data_pack)\n",
      "    data = data.to(device)\n",
      "\n",
      "    \u001b[37m# Make sure to put the model into evaluation mode\u001b[39;49;00m\n",
      "    model.eval()\n",
      "\n",
      "    \u001b[37m# TODO: Compute the result of applying the model to the input data. The variable `result` should\u001b[39;49;00m\n",
      "    \u001b[37m#       be a numpy array which contains a single integer which is either 1 or 0\u001b[39;49;00m\n",
      "\n",
      "    \u001b[34mwith\u001b[39;49;00m torch.no_grad():\n",
      "        output = model.forward(data)\n",
      "        \n",
      "    result = np.round(output.numpy())\n",
      "    \n",
      "    \u001b[34mreturn\u001b[39;49;00m result\n"
     ]
    }
   ],
   "source": [
    "!pygmentize serve/predict.py"
   ]
  },
  {
   "cell_type": "markdown",
   "metadata": {},
   "source": [
    "As mentioned earlier, the `model_fn` method is the same as the one provided in the training code and the `input_fn` and `output_fn` methods are very simple and your task will be to complete the `predict_fn` method. Make sure that you save the completed file as `predict.py` in the `serve` directory.\n",
    "\n",
    "**TODO**: Complete the `predict_fn()` method in the `serve/predict.py` file."
   ]
  },
  {
   "cell_type": "markdown",
   "metadata": {},
   "source": [
    "### Deploying the model\n",
    "\n",
    "Now that the custom inference code has been written, we will create and deploy our model. To begin with, we need to construct a new PyTorchModel object which points to the model artifacts created during training and also points to the inference code that we wish to use. Then we can call the deploy method to launch the deployment container.\n",
    "\n",
    "**NOTE**: The default behaviour for a deployed PyTorch model is to assume that any input passed to the predictor is a `numpy` array. In our case we want to send a string so we need to construct a simple wrapper around the `RealTimePredictor` class to accomodate simple strings. In a more complicated situation you may want to provide a serialization object, for example if you wanted to sent image data."
   ]
  },
  {
   "cell_type": "code",
   "execution_count": 50,
   "metadata": {},
   "outputs": [
    {
     "name": "stderr",
     "output_type": "stream",
     "text": [
      "Parameter image will be renamed to image_uri in SageMaker Python SDK v2.\n",
      "'create_image_uri' will be deprecated in favor of 'ImageURIProvider' class in SageMaker Python SDK v2.\n"
     ]
    },
    {
     "name": "stdout",
     "output_type": "stream",
     "text": [
      "-------------!"
     ]
    }
   ],
   "source": [
    "from sagemaker.predictor import RealTimePredictor\n",
    "from sagemaker.pytorch import PyTorchModel\n",
    "\n",
    "class StringPredictor(RealTimePredictor):\n",
    "    def __init__(self, endpoint_name, sagemaker_session):\n",
    "        super(StringPredictor, self).__init__(endpoint_name, sagemaker_session, content_type='text/plain')\n",
    "\n",
    "model = PyTorchModel(model_data=estimator.model_data,\n",
    "                     role = role,\n",
    "                     framework_version='0.4.0',\n",
    "                     entry_point='predict.py',\n",
    "                     source_dir='serve',\n",
    "                     predictor_cls=StringPredictor)\n",
    "predictor = model.deploy(initial_instance_count=1, instance_type='ml.m4.xlarge')"
   ]
  },
  {
   "cell_type": "markdown",
   "metadata": {},
   "source": [
    "### Testing the model\n",
    "\n",
    "Now that we have deployed our model with the custom inference code, we should test to see if everything is working. Here we test our model by loading the first `250` positive and negative reviews and send them to the endpoint, then collect the results. The reason for only sending some of the data is that the amount of time it takes for our model to process the input and then perform inference is quite long and so testing the entire data set would be prohibitive."
   ]
  },
  {
   "cell_type": "code",
   "execution_count": 51,
   "metadata": {},
   "outputs": [],
   "source": [
    "import glob\n",
    "\n",
    "def test_reviews(data_dir='../data/aclImdb', stop=250):\n",
    "    \n",
    "    results = []\n",
    "    ground = []\n",
    "    \n",
    "    # We make sure to test both positive and negative reviews    \n",
    "    for sentiment in ['pos', 'neg']:\n",
    "        \n",
    "        path = os.path.join(data_dir, 'test', sentiment, '*.txt')\n",
    "        files = glob.glob(path)\n",
    "        \n",
    "        files_read = 0\n",
    "        \n",
    "        print('Starting ', sentiment, ' files')\n",
    "        \n",
    "        # Iterate through the files and send them to the predictor\n",
    "        for f in files:\n",
    "            with open(f) as review:\n",
    "                # First, we store the ground truth (was the review positive or negative)\n",
    "                if sentiment == 'pos':\n",
    "                    ground.append(1)\n",
    "                else:\n",
    "                    ground.append(0)\n",
    "                # Read in the review and convert to 'utf-8' for transmission via HTTP\n",
    "                review_input = review.read().encode('utf-8')\n",
    "                # Send the review to the predictor and store the results\n",
    "                results.append(float(predictor.predict(review_input)))\n",
    "                \n",
    "            # Sending reviews to our endpoint one at a time takes a while so we\n",
    "            # only send a small number of reviews\n",
    "            files_read += 1\n",
    "            if files_read == stop:\n",
    "                break\n",
    "            \n",
    "    return ground, results"
   ]
  },
  {
   "cell_type": "code",
   "execution_count": 52,
   "metadata": {},
   "outputs": [
    {
     "name": "stdout",
     "output_type": "stream",
     "text": [
      "Starting  pos  files\n",
      "Starting  neg  files\n"
     ]
    }
   ],
   "source": [
    "ground, results = test_reviews()"
   ]
  },
  {
   "cell_type": "code",
   "execution_count": 53,
   "metadata": {},
   "outputs": [
    {
     "data": {
      "text/plain": [
       "0.852"
      ]
     },
     "execution_count": 53,
     "metadata": {},
     "output_type": "execute_result"
    }
   ],
   "source": [
    "from sklearn.metrics import accuracy_score\n",
    "accuracy_score(ground, results)"
   ]
  },
  {
   "cell_type": "markdown",
   "metadata": {},
   "source": [
    "As an additional test, we can try sending the `test_review` that we looked at earlier."
   ]
  },
  {
   "cell_type": "code",
   "execution_count": 54,
   "metadata": {},
   "outputs": [
    {
     "data": {
      "text/plain": [
       "b'1.0'"
      ]
     },
     "execution_count": 54,
     "metadata": {},
     "output_type": "execute_result"
    }
   ],
   "source": [
    "predictor.predict(test_review)"
   ]
  },
  {
   "cell_type": "markdown",
   "metadata": {},
   "source": [
    "Now that we know our endpoint is working as expected, we can set up the web page that will interact with it. If you don't have time to finish the project now, make sure to skip down to the end of this notebook and shut down your endpoint. You can deploy it again when you come back."
   ]
  },
  {
   "cell_type": "markdown",
   "metadata": {},
   "source": [
    "## Step 7 (again): Use the model for the web app\n",
    "\n",
    "> **TODO:** This entire section and the next contain tasks for you to complete, mostly using the AWS console.\n",
    "\n",
    "So far we have been accessing our model endpoint by constructing a predictor object which uses the endpoint and then just using the predictor object to perform inference. What if we wanted to create a web app which accessed our model? The way things are set up currently makes that not possible since in order to access a SageMaker endpoint the app would first have to authenticate with AWS using an IAM role which included access to SageMaker endpoints. However, there is an easier way! We just need to use some additional AWS services.\n",
    "\n",
    "<img src=\"Web App Diagram.svg\">\n",
    "\n",
    "The diagram above gives an overview of how the various services will work together. On the far right is the model which we trained above and which is deployed using SageMaker. On the far left is our web app that collects a user's movie review, sends it off and expects a positive or negative sentiment in return.\n",
    "\n",
    "In the middle is where some of the magic happens. We will construct a Lambda function, which you can think of as a straightforward Python function that can be executed whenever a specified event occurs. We will give this function permission to send and recieve data from a SageMaker endpoint.\n",
    "\n",
    "Lastly, the method we will use to execute the Lambda function is a new endpoint that we will create using API Gateway. This endpoint will be a url that listens for data to be sent to it. Once it gets some data it will pass that data on to the Lambda function and then return whatever the Lambda function returns. Essentially it will act as an interface that lets our web app communicate with the Lambda function.\n",
    "\n",
    "### Setting up a Lambda function\n",
    "\n",
    "The first thing we are going to do is set up a Lambda function. This Lambda function will be executed whenever our public API has data sent to it. When it is executed it will receive the data, perform any sort of processing that is required, send the data (the review) to the SageMaker endpoint we've created and then return the result.\n",
    "\n",
    "#### Part A: Create an IAM Role for the Lambda function\n",
    "\n",
    "Since we want the Lambda function to call a SageMaker endpoint, we need to make sure that it has permission to do so. To do this, we will construct a role that we can later give the Lambda function.\n",
    "\n",
    "Using the AWS Console, navigate to the **IAM** page and click on **Roles**. Then, click on **Create role**. Make sure that the **AWS service** is the type of trusted entity selected and choose **Lambda** as the service that will use this role, then click **Next: Permissions**.\n",
    "\n",
    "In the search box type `sagemaker` and select the check box next to the **AmazonSageMakerFullAccess** policy. Then, click on **Next: Review**.\n",
    "\n",
    "Lastly, give this role a name. Make sure you use a name that you will remember later on, for example `LambdaSageMakerRole`. Then, click on **Create role**.\n",
    "\n",
    "#### Part B: Create a Lambda function\n",
    "\n",
    "Now it is time to actually create the Lambda function.\n",
    "\n",
    "Using the AWS Console, navigate to the AWS Lambda page and click on **Create a function**. When you get to the next page, make sure that **Author from scratch** is selected. Now, name your Lambda function, using a name that you will remember later on, for example `sentiment_analysis_func`. Make sure that the **Python 3.6** runtime is selected and then choose the role that you created in the previous part. Then, click on **Create Function**.\n",
    "\n",
    "On the next page you will see some information about the Lambda function you've just created. If you scroll down you should see an editor in which you can write the code that will be executed when your Lambda function is triggered. In our example, we will use the code below. \n",
    "\n",
    "```python\n",
    "# We need to use the low-level library to interact with SageMaker since the SageMaker API\n",
    "# is not available natively through Lambda.\n",
    "import boto3\n",
    "\n",
    "def lambda_handler(event, context):\n",
    "\n",
    "    # The SageMaker runtime is what allows us to invoke the endpoint that we've created.\n",
    "    runtime = boto3.Session().client('sagemaker-runtime')\n",
    "\n",
    "    # Now we use the SageMaker runtime to invoke our endpoint, sending the review we were given\n",
    "    response = runtime.invoke_endpoint(EndpointName = '**ENDPOINT NAME HERE**',    # The name of the endpoint we created\n",
    "                                       ContentType = 'text/plain',                 # The data format that is expected\n",
    "                                       Body = event['body'])                       # The actual review\n",
    "\n",
    "    # The response is an HTTP response whose body contains the result of our inference\n",
    "    result = response['Body'].read().decode('utf-8')\n",
    "\n",
    "    return {\n",
    "        'statusCode' : 200,\n",
    "        'headers' : { 'Content-Type' : 'text/plain', 'Access-Control-Allow-Origin' : '*' },\n",
    "        'body' : result\n",
    "    }\n",
    "```\n",
    "\n",
    "Once you have copy and pasted the code above into the Lambda code editor, replace the `**ENDPOINT NAME HERE**` portion with the name of the endpoint that we deployed earlier. You can determine the name of the endpoint using the code cell below."
   ]
  },
  {
   "cell_type": "code",
   "execution_count": 55,
   "metadata": {},
   "outputs": [
    {
     "data": {
      "text/plain": [
       "'sagemaker-pytorch-2021-08-14-08-07-10-242'"
      ]
     },
     "execution_count": 55,
     "metadata": {},
     "output_type": "execute_result"
    }
   ],
   "source": [
    "predictor.endpoint"
   ]
  },
  {
   "cell_type": "markdown",
   "metadata": {},
   "source": [
    "Once you have added the endpoint name to the Lambda function, click on **Save**. Your Lambda function is now up and running. Next we need to create a way for our web app to execute the Lambda function.\n",
    "\n",
    "### Setting up API Gateway\n",
    "\n",
    "Now that our Lambda function is set up, it is time to create a new API using API Gateway that will trigger the Lambda function we have just created.\n",
    "\n",
    "Using AWS Console, navigate to **Amazon API Gateway** and then click on **Get started**.\n",
    "\n",
    "On the next page, make sure that **New API** is selected and give the new api a name, for example, `sentiment_analysis_api`. Then, click on **Create API**.\n",
    "\n",
    "Now we have created an API, however it doesn't currently do anything. What we want it to do is to trigger the Lambda function that we created earlier.\n",
    "\n",
    "Select the **Actions** dropdown menu and click **Create Method**. A new blank method will be created, select its dropdown menu and select **POST**, then click on the check mark beside it.\n",
    "\n",
    "For the integration point, make sure that **Lambda Function** is selected and click on the **Use Lambda Proxy integration**. This option makes sure that the data that is sent to the API is then sent directly to the Lambda function with no processing. It also means that the return value must be a proper response object as it will also not be processed by API Gateway.\n",
    "\n",
    "Type the name of the Lambda function you created earlier into the **Lambda Function** text entry box and then click on **Save**. Click on **OK** in the pop-up box that then appears, giving permission to API Gateway to invoke the Lambda function you created.\n",
    "\n",
    "The last step in creating the API Gateway is to select the **Actions** dropdown and click on **Deploy API**. You will need to create a new Deployment stage and name it anything you like, for example `prod`.\n",
    "\n",
    "You have now successfully set up a public API to access your SageMaker model. Make sure to copy or write down the URL provided to invoke your newly created public API as this will be needed in the next step. This URL can be found at the top of the page, highlighted in blue next to the text **Invoke URL**."
   ]
  },
  {
   "cell_type": "markdown",
   "metadata": {},
   "source": [
    "## Step 4: Deploying our web app\n",
    "\n",
    "Now that we have a publicly available API, we can start using it in a web app. For our purposes, we have provided a simple static html file which can make use of the public api you created earlier.\n",
    "\n",
    "In the `website` folder there should be a file called `index.html`. Download the file to your computer and open that file up in a text editor of your choice. There should be a line which contains **\\*\\*REPLACE WITH PUBLIC API URL\\*\\***. Replace this string with the url that you wrote down in the last step and then save the file.\n",
    "\n",
    "Now, if you open `index.html` on your local computer, your browser will behave as a local web server and you can use the provided site to interact with your SageMaker model.\n",
    "\n",
    "If you'd like to go further, you can host this html file anywhere you'd like, for example using github or hosting a static site on Amazon's S3. Once you have done this you can share the link with anyone you'd like and have them play with it too!\n",
    "\n",
    "> **Important Note** In order for the web app to communicate with the SageMaker endpoint, the endpoint has to actually be deployed and running. This means that you are paying for it. Make sure that the endpoint is running when you want to use the web app but that you shut it down when you don't need it, otherwise you will end up with a surprisingly large AWS bill.\n",
    "\n",
    "**TODO:** Make sure that you include the edited `index.html` file in your project submission."
   ]
  },
  {
   "cell_type": "markdown",
   "metadata": {},
   "source": [
    "Now that your web app is working, trying playing around with it and see how well it works.\n",
    "\n",
    "**Question**: Give an example of a review that you entered into your web app. What was the predicted sentiment of your example review?"
   ]
  },
  {
   "cell_type": "markdown",
   "metadata": {},
   "source": [
    "**Answer:** The course is really good. Even though it takes a long time and is quite expensive, you definitely learn a lot which is great!\n",
    "\n",
    "Your review was POSITIVE!"
   ]
  },
  {
   "cell_type": "markdown",
   "metadata": {},
   "source": [
    "### Delete the endpoint\n",
    "\n",
    "Remember to always shut down your endpoint if you are no longer using it. You are charged for the length of time that the endpoint is running so if you forget and leave it on you could end up with an unexpectedly large bill."
   ]
  },
  {
   "cell_type": "code",
   "execution_count": 56,
   "metadata": {},
   "outputs": [],
   "source": [
    "predictor.delete_endpoint()"
   ]
  },
  {
   "cell_type": "code",
   "execution_count": null,
   "metadata": {},
   "outputs": [],
   "source": []
  }
 ],
 "metadata": {
  "kernelspec": {
   "display_name": "conda_pytorch_p36",
   "language": "python",
   "name": "conda_pytorch_p36"
  },
  "language_info": {
   "codemirror_mode": {
    "name": "ipython",
    "version": 3
   },
   "file_extension": ".py",
   "mimetype": "text/x-python",
   "name": "python",
   "nbconvert_exporter": "python",
   "pygments_lexer": "ipython3",
   "version": "3.6.13"
  }
 },
 "nbformat": 4,
 "nbformat_minor": 4
}
