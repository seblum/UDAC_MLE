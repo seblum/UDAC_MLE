{
 "cells": [
  {
   "cell_type": "markdown",
   "id": "cef49dac-3068-4457-81d5-037b7bff07fe",
   "metadata": {},
   "source": [
    "# Model Training\n",
    "\n",
    "This notebook defines two models, a SVM and an ANN, to predict whether a user will accept an offer or not."
   ]
  },
  {
   "cell_type": "code",
   "execution_count": 57,
   "id": "2d3829b4-0254-400a-a155-5023fa14078f",
   "metadata": {},
   "outputs": [],
   "source": [
    "import pandas as pd\n",
    "import numpy as np\n",
    "import math\n",
    "import json\n",
    "import seaborn as sns\n",
    "import matplotlib.pyplot as plt\n",
    "import os\n",
    "\n",
    "from sklearn.model_selection import train_test_split\n",
    "from sklearn import svm\n",
    "from sklearn.metrics import accuracy_score\n",
    "\n",
    "from tensorflow import keras\n",
    "from tensorflow.keras import layers, activations\n",
    "import tensorflow as tf\n",
    "\n",
    "#from sagemaker.tensorflow import TensorFlow\n",
    "#import sagemaker\n",
    "\n",
    "#import warnings\n",
    "#warnings.filterwarnings('ignore')\n"
   ]
  },
  {
   "cell_type": "markdown",
   "id": "b5a470c1-683c-453f-9977-8fb74c865aed",
   "metadata": {},
   "source": [
    "### load from local"
   ]
  },
  {
   "cell_type": "code",
   "execution_count": 40,
   "id": "71310020-8e00-4fd3-b388-3b4e6d747148",
   "metadata": {},
   "outputs": [
    {
     "data": {
      "text/html": [
       "<div>\n",
       "<style scoped>\n",
       "    .dataframe tbody tr th:only-of-type {\n",
       "        vertical-align: middle;\n",
       "    }\n",
       "\n",
       "    .dataframe tbody tr th {\n",
       "        vertical-align: top;\n",
       "    }\n",
       "\n",
       "    .dataframe thead th {\n",
       "        text-align: right;\n",
       "    }\n",
       "</style>\n",
       "<table border=\"1\" class=\"dataframe\">\n",
       "  <thead>\n",
       "    <tr style=\"text-align: right;\">\n",
       "      <th></th>\n",
       "      <th>event_offer completed</th>\n",
       "      <th>event_offer received</th>\n",
       "      <th>event_offer viewed</th>\n",
       "      <th>event_transaction</th>\n",
       "      <th>difficulty</th>\n",
       "      <th>duration</th>\n",
       "      <th>mobile</th>\n",
       "      <th>social</th>\n",
       "      <th>web</th>\n",
       "      <th>offer_bogo</th>\n",
       "      <th>...</th>\n",
       "      <th>age_(39, 49]</th>\n",
       "      <th>age_(49, 59]</th>\n",
       "      <th>age_(59, 69]</th>\n",
       "      <th>age_(69, 79]</th>\n",
       "      <th>age_(79, 89]</th>\n",
       "      <th>age_(89, 99]</th>\n",
       "      <th>age_(99, 109]</th>\n",
       "      <th>income_(30000, 60000]</th>\n",
       "      <th>income_(60000, 90000]</th>\n",
       "      <th>income_(90000, 120000]</th>\n",
       "    </tr>\n",
       "  </thead>\n",
       "  <tbody>\n",
       "    <tr>\n",
       "      <th>0</th>\n",
       "      <td>0</td>\n",
       "      <td>1</td>\n",
       "      <td>0</td>\n",
       "      <td>0</td>\n",
       "      <td>0.25</td>\n",
       "      <td>0.571429</td>\n",
       "      <td>1.0</td>\n",
       "      <td>0.0</td>\n",
       "      <td>1.0</td>\n",
       "      <td>1.0</td>\n",
       "      <td>...</td>\n",
       "      <td>0.0</td>\n",
       "      <td>0.0</td>\n",
       "      <td>0.0</td>\n",
       "      <td>1.0</td>\n",
       "      <td>0.0</td>\n",
       "      <td>0.0</td>\n",
       "      <td>0.0</td>\n",
       "      <td>0.0</td>\n",
       "      <td>0.0</td>\n",
       "      <td>0.0</td>\n",
       "    </tr>\n",
       "    <tr>\n",
       "      <th>1</th>\n",
       "      <td>0</td>\n",
       "      <td>1</td>\n",
       "      <td>0</td>\n",
       "      <td>0</td>\n",
       "      <td>1.00</td>\n",
       "      <td>1.000000</td>\n",
       "      <td>0.0</td>\n",
       "      <td>0.0</td>\n",
       "      <td>1.0</td>\n",
       "      <td>0.0</td>\n",
       "      <td>...</td>\n",
       "      <td>0.0</td>\n",
       "      <td>0.0</td>\n",
       "      <td>0.0</td>\n",
       "      <td>0.0</td>\n",
       "      <td>0.0</td>\n",
       "      <td>0.0</td>\n",
       "      <td>0.0</td>\n",
       "      <td>0.0</td>\n",
       "      <td>0.0</td>\n",
       "      <td>0.0</td>\n",
       "    </tr>\n",
       "    <tr>\n",
       "      <th>2</th>\n",
       "      <td>0</td>\n",
       "      <td>1</td>\n",
       "      <td>0</td>\n",
       "      <td>0</td>\n",
       "      <td>0.50</td>\n",
       "      <td>0.571429</td>\n",
       "      <td>1.0</td>\n",
       "      <td>0.0</td>\n",
       "      <td>1.0</td>\n",
       "      <td>0.0</td>\n",
       "      <td>...</td>\n",
       "      <td>0.0</td>\n",
       "      <td>0.0</td>\n",
       "      <td>1.0</td>\n",
       "      <td>0.0</td>\n",
       "      <td>0.0</td>\n",
       "      <td>0.0</td>\n",
       "      <td>0.0</td>\n",
       "      <td>0.0</td>\n",
       "      <td>0.0</td>\n",
       "      <td>0.0</td>\n",
       "    </tr>\n",
       "    <tr>\n",
       "      <th>3</th>\n",
       "      <td>0</td>\n",
       "      <td>1</td>\n",
       "      <td>0</td>\n",
       "      <td>0</td>\n",
       "      <td>0.50</td>\n",
       "      <td>1.000000</td>\n",
       "      <td>1.0</td>\n",
       "      <td>1.0</td>\n",
       "      <td>1.0</td>\n",
       "      <td>0.0</td>\n",
       "      <td>...</td>\n",
       "      <td>0.0</td>\n",
       "      <td>0.0</td>\n",
       "      <td>0.0</td>\n",
       "      <td>0.0</td>\n",
       "      <td>0.0</td>\n",
       "      <td>0.0</td>\n",
       "      <td>0.0</td>\n",
       "      <td>0.0</td>\n",
       "      <td>0.0</td>\n",
       "      <td>0.0</td>\n",
       "    </tr>\n",
       "    <tr>\n",
       "      <th>4</th>\n",
       "      <td>0</td>\n",
       "      <td>1</td>\n",
       "      <td>0</td>\n",
       "      <td>0</td>\n",
       "      <td>0.50</td>\n",
       "      <td>0.285714</td>\n",
       "      <td>1.0</td>\n",
       "      <td>1.0</td>\n",
       "      <td>1.0</td>\n",
       "      <td>1.0</td>\n",
       "      <td>...</td>\n",
       "      <td>0.0</td>\n",
       "      <td>0.0</td>\n",
       "      <td>0.0</td>\n",
       "      <td>0.0</td>\n",
       "      <td>0.0</td>\n",
       "      <td>0.0</td>\n",
       "      <td>0.0</td>\n",
       "      <td>0.0</td>\n",
       "      <td>0.0</td>\n",
       "      <td>0.0</td>\n",
       "    </tr>\n",
       "    <tr>\n",
       "      <th>...</th>\n",
       "      <td>...</td>\n",
       "      <td>...</td>\n",
       "      <td>...</td>\n",
       "      <td>...</td>\n",
       "      <td>...</td>\n",
       "      <td>...</td>\n",
       "      <td>...</td>\n",
       "      <td>...</td>\n",
       "      <td>...</td>\n",
       "      <td>...</td>\n",
       "      <td>...</td>\n",
       "      <td>...</td>\n",
       "      <td>...</td>\n",
       "      <td>...</td>\n",
       "      <td>...</td>\n",
       "      <td>...</td>\n",
       "      <td>...</td>\n",
       "      <td>...</td>\n",
       "      <td>...</td>\n",
       "      <td>...</td>\n",
       "      <td>...</td>\n",
       "    </tr>\n",
       "    <tr>\n",
       "      <th>306529</th>\n",
       "      <td>0</td>\n",
       "      <td>0</td>\n",
       "      <td>0</td>\n",
       "      <td>1</td>\n",
       "      <td>0.00</td>\n",
       "      <td>0.000000</td>\n",
       "      <td>0.0</td>\n",
       "      <td>0.0</td>\n",
       "      <td>0.0</td>\n",
       "      <td>0.0</td>\n",
       "      <td>...</td>\n",
       "      <td>0.0</td>\n",
       "      <td>0.0</td>\n",
       "      <td>1.0</td>\n",
       "      <td>0.0</td>\n",
       "      <td>0.0</td>\n",
       "      <td>0.0</td>\n",
       "      <td>0.0</td>\n",
       "      <td>0.0</td>\n",
       "      <td>0.0</td>\n",
       "      <td>0.0</td>\n",
       "    </tr>\n",
       "    <tr>\n",
       "      <th>306530</th>\n",
       "      <td>0</td>\n",
       "      <td>0</td>\n",
       "      <td>0</td>\n",
       "      <td>1</td>\n",
       "      <td>0.00</td>\n",
       "      <td>0.000000</td>\n",
       "      <td>0.0</td>\n",
       "      <td>0.0</td>\n",
       "      <td>0.0</td>\n",
       "      <td>0.0</td>\n",
       "      <td>...</td>\n",
       "      <td>0.0</td>\n",
       "      <td>1.0</td>\n",
       "      <td>0.0</td>\n",
       "      <td>0.0</td>\n",
       "      <td>0.0</td>\n",
       "      <td>0.0</td>\n",
       "      <td>0.0</td>\n",
       "      <td>0.0</td>\n",
       "      <td>0.0</td>\n",
       "      <td>0.0</td>\n",
       "    </tr>\n",
       "    <tr>\n",
       "      <th>306531</th>\n",
       "      <td>0</td>\n",
       "      <td>0</td>\n",
       "      <td>0</td>\n",
       "      <td>1</td>\n",
       "      <td>0.00</td>\n",
       "      <td>0.000000</td>\n",
       "      <td>0.0</td>\n",
       "      <td>0.0</td>\n",
       "      <td>0.0</td>\n",
       "      <td>0.0</td>\n",
       "      <td>...</td>\n",
       "      <td>0.0</td>\n",
       "      <td>0.0</td>\n",
       "      <td>1.0</td>\n",
       "      <td>0.0</td>\n",
       "      <td>0.0</td>\n",
       "      <td>0.0</td>\n",
       "      <td>0.0</td>\n",
       "      <td>0.0</td>\n",
       "      <td>0.0</td>\n",
       "      <td>0.0</td>\n",
       "    </tr>\n",
       "    <tr>\n",
       "      <th>306532</th>\n",
       "      <td>0</td>\n",
       "      <td>0</td>\n",
       "      <td>0</td>\n",
       "      <td>1</td>\n",
       "      <td>0.00</td>\n",
       "      <td>0.000000</td>\n",
       "      <td>0.0</td>\n",
       "      <td>0.0</td>\n",
       "      <td>0.0</td>\n",
       "      <td>0.0</td>\n",
       "      <td>...</td>\n",
       "      <td>0.0</td>\n",
       "      <td>1.0</td>\n",
       "      <td>0.0</td>\n",
       "      <td>0.0</td>\n",
       "      <td>0.0</td>\n",
       "      <td>0.0</td>\n",
       "      <td>0.0</td>\n",
       "      <td>0.0</td>\n",
       "      <td>0.0</td>\n",
       "      <td>0.0</td>\n",
       "    </tr>\n",
       "    <tr>\n",
       "      <th>306533</th>\n",
       "      <td>0</td>\n",
       "      <td>0</td>\n",
       "      <td>0</td>\n",
       "      <td>1</td>\n",
       "      <td>0.00</td>\n",
       "      <td>0.000000</td>\n",
       "      <td>0.0</td>\n",
       "      <td>0.0</td>\n",
       "      <td>0.0</td>\n",
       "      <td>0.0</td>\n",
       "      <td>...</td>\n",
       "      <td>0.0</td>\n",
       "      <td>0.0</td>\n",
       "      <td>0.0</td>\n",
       "      <td>0.0</td>\n",
       "      <td>0.0</td>\n",
       "      <td>0.0</td>\n",
       "      <td>0.0</td>\n",
       "      <td>0.0</td>\n",
       "      <td>0.0</td>\n",
       "      <td>0.0</td>\n",
       "    </tr>\n",
       "  </tbody>\n",
       "</table>\n",
       "<p>306534 rows × 28 columns</p>\n",
       "</div>"
      ],
      "text/plain": [
       "        event_offer completed  event_offer received  event_offer viewed  \\\n",
       "0                           0                     1                   0   \n",
       "1                           0                     1                   0   \n",
       "2                           0                     1                   0   \n",
       "3                           0                     1                   0   \n",
       "4                           0                     1                   0   \n",
       "...                       ...                   ...                 ...   \n",
       "306529                      0                     0                   0   \n",
       "306530                      0                     0                   0   \n",
       "306531                      0                     0                   0   \n",
       "306532                      0                     0                   0   \n",
       "306533                      0                     0                   0   \n",
       "\n",
       "        event_transaction  difficulty  duration  mobile  social  web  \\\n",
       "0                       0        0.25  0.571429     1.0     0.0  1.0   \n",
       "1                       0        1.00  1.000000     0.0     0.0  1.0   \n",
       "2                       0        0.50  0.571429     1.0     0.0  1.0   \n",
       "3                       0        0.50  1.000000     1.0     1.0  1.0   \n",
       "4                       0        0.50  0.285714     1.0     1.0  1.0   \n",
       "...                   ...         ...       ...     ...     ...  ...   \n",
       "306529                  1        0.00  0.000000     0.0     0.0  0.0   \n",
       "306530                  1        0.00  0.000000     0.0     0.0  0.0   \n",
       "306531                  1        0.00  0.000000     0.0     0.0  0.0   \n",
       "306532                  1        0.00  0.000000     0.0     0.0  0.0   \n",
       "306533                  1        0.00  0.000000     0.0     0.0  0.0   \n",
       "\n",
       "        offer_bogo  ...  age_(39, 49]  age_(49, 59]  age_(59, 69]  \\\n",
       "0              1.0  ...           0.0           0.0           0.0   \n",
       "1              0.0  ...           0.0           0.0           0.0   \n",
       "2              0.0  ...           0.0           0.0           1.0   \n",
       "3              0.0  ...           0.0           0.0           0.0   \n",
       "4              1.0  ...           0.0           0.0           0.0   \n",
       "...            ...  ...           ...           ...           ...   \n",
       "306529         0.0  ...           0.0           0.0           1.0   \n",
       "306530         0.0  ...           0.0           1.0           0.0   \n",
       "306531         0.0  ...           0.0           0.0           1.0   \n",
       "306532         0.0  ...           0.0           1.0           0.0   \n",
       "306533         0.0  ...           0.0           0.0           0.0   \n",
       "\n",
       "        age_(69, 79]  age_(79, 89]  age_(89, 99]  age_(99, 109]  \\\n",
       "0                1.0           0.0           0.0            0.0   \n",
       "1                0.0           0.0           0.0            0.0   \n",
       "2                0.0           0.0           0.0            0.0   \n",
       "3                0.0           0.0           0.0            0.0   \n",
       "4                0.0           0.0           0.0            0.0   \n",
       "...              ...           ...           ...            ...   \n",
       "306529           0.0           0.0           0.0            0.0   \n",
       "306530           0.0           0.0           0.0            0.0   \n",
       "306531           0.0           0.0           0.0            0.0   \n",
       "306532           0.0           0.0           0.0            0.0   \n",
       "306533           0.0           0.0           0.0            0.0   \n",
       "\n",
       "        income_(30000, 60000]  income_(60000, 90000]  income_(90000, 120000]  \n",
       "0                         0.0                    0.0                     0.0  \n",
       "1                         0.0                    0.0                     0.0  \n",
       "2                         0.0                    0.0                     0.0  \n",
       "3                         0.0                    0.0                     0.0  \n",
       "4                         0.0                    0.0                     0.0  \n",
       "...                       ...                    ...                     ...  \n",
       "306529                    0.0                    0.0                     0.0  \n",
       "306530                    0.0                    0.0                     0.0  \n",
       "306531                    0.0                    0.0                     0.0  \n",
       "306532                    0.0                    0.0                     0.0  \n",
       "306533                    0.0                    0.0                     0.0  \n",
       "\n",
       "[306534 rows x 28 columns]"
      ]
     },
     "execution_count": 40,
     "metadata": {},
     "output_type": "execute_result"
    }
   ],
   "source": [
    "filepath = '../formatted_data/combined.csv'\n",
    "data = pd.read_csv(filepath)\n",
    "data"
   ]
  },
  {
   "cell_type": "markdown",
   "id": "a0c31e72-1153-4ec7-83ea-a4615de7c59f",
   "metadata": {},
   "source": [
    "### load from aws S3"
   ]
  },
  {
   "cell_type": "code",
   "execution_count": null,
   "id": "14ed8fd6-dbf4-4f84-aabe-f65168f20f61",
   "metadata": {},
   "outputs": [],
   "source": []
  },
  {
   "cell_type": "code",
   "execution_count": 42,
   "id": "5a70c904-d3c1-42b9-b746-90236623bfb5",
   "metadata": {},
   "outputs": [],
   "source": [
    "#data = pd.DataFrame(data).fillna(0)\n",
    "#data = data.drop(['id_offer','id_customer','offer_id','amount','reward'], axis=1)"
   ]
  },
  {
   "cell_type": "markdown",
   "id": "a8ce536e-b096-4ad8-8e4b-adcc9ff8546a",
   "metadata": {},
   "source": [
    "### Train Test Split"
   ]
  },
  {
   "cell_type": "code",
   "execution_count": 43,
   "id": "7350127d-0991-4c9f-ad78-7c618e6ea2ad",
   "metadata": {},
   "outputs": [],
   "source": [
    "data_X = data.drop('event_offer completed', axis=1)\n",
    "data_y = data.loc[:, ['event_offer completed']]\n",
    "\n",
    "X_train, X_test, y_train, y_test = train_test_split(data_X, data_y, test_size=0.2, random_state=1)\n",
    "X_train, X_val, y_train, y_val = train_test_split(X_train, y_train, test_size=0.25, random_state=1) # 0.25 x 0.8 = 0.2"
   ]
  },
  {
   "cell_type": "code",
   "execution_count": 44,
   "id": "32cb6142-beac-46f3-87b4-60350fea107f",
   "metadata": {},
   "outputs": [],
   "source": [
    "y_train = y_train.values.ravel()\n",
    "y_val   = y_val.values.ravel()\n",
    "y_test  = y_test.values.ravel()"
   ]
  },
  {
   "cell_type": "markdown",
   "id": "6e1df9cd-5bac-4f43-adb3-dcaa22a9b508",
   "metadata": {},
   "source": [
    "### Support Vector Machine"
   ]
  },
  {
   "cell_type": "code",
   "execution_count": 45,
   "id": "bc6dadf8-e891-4dc4-ba7b-21a671bb7e53",
   "metadata": {},
   "outputs": [
    {
     "data": {
      "text/plain": [
       "SVC()"
      ]
     },
     "execution_count": 45,
     "metadata": {},
     "output_type": "execute_result"
    }
   ],
   "source": [
    "clf = svm.SVC()\n",
    "clf.fit(X_train, y_train)"
   ]
  },
  {
   "cell_type": "code",
   "execution_count": 46,
   "id": "e880aca3-9420-4fac-965c-4bb6d89c40b0",
   "metadata": {},
   "outputs": [
    {
     "name": "stdout",
     "output_type": "stream",
     "text": [
      "Test accuracy: 0.8926549986135351\n"
     ]
    }
   ],
   "source": [
    "#clf.predict(X_val)\n",
    "acc = clf.score(X_val, y_val)\n",
    "print(f'Test accuracy: {acc}')"
   ]
  },
  {
   "cell_type": "markdown",
   "id": "e5c1dfdc-8863-4923-905a-da40acde5b89",
   "metadata": {},
   "source": [
    "### Neural Network"
   ]
  },
  {
   "cell_type": "code",
   "execution_count": 47,
   "id": "220b97e3-4e4a-4a12-baab-97b84a3f3c00",
   "metadata": {},
   "outputs": [],
   "source": [
    "X_train_nn = X_train.values\n",
    "y_train_nn = y_train"
   ]
  },
  {
   "cell_type": "code",
   "execution_count": 48,
   "id": "863951c5-1cc9-4da0-bfa3-5f481f74c7a5",
   "metadata": {},
   "outputs": [],
   "source": [
    "# define hyperparameters\n",
    "epochs = 10\n",
    "lr = 0.1\n",
    "\n",
    "# define layer shape\n",
    "# input shape is the number of features of X_train\n",
    "# output shape is the number of featres of y_train\n",
    "input_shape, hidden_shape, output_shape = len(X_train_nn[0]), len(X_train_nn[0])*1.5, len(y_train_nn[0])"
   ]
  },
  {
   "cell_type": "code",
   "execution_count": 49,
   "id": "d5a283ec-337b-4409-80bc-65380dbc6bae",
   "metadata": {},
   "outputs": [
    {
     "name": "stdout",
     "output_type": "stream",
     "text": [
      "Model: \"sequential_5\"\n",
      "_________________________________________________________________\n",
      "Layer (type)                 Output Shape              Param #   \n",
      "=================================================================\n",
      "dense_14 (Dense)             (None, 40)                1120      \n",
      "_________________________________________________________________\n",
      "dense_15 (Dense)             (None, 40)                1640      \n",
      "_________________________________________________________________\n",
      "dense_16 (Dense)             (None, 40)                1640      \n",
      "_________________________________________________________________\n",
      "dense_17 (Dense)             (None, 1)                 41        \n",
      "=================================================================\n",
      "Total params: 4,441\n",
      "Trainable params: 4,441\n",
      "Non-trainable params: 0\n",
      "_________________________________________________________________\n"
     ]
    }
   ],
   "source": [
    "# define tensorflow model\n",
    "model = keras.models.Sequential(\n",
    "    [\n",
    "            keras.Input(shape=input_shape),\n",
    "            layers.Dense(hidden_shape, activation='relu'),\n",
    "            layers.Dense(hidden_shape, activation='relu'),\n",
    "            layers.Dense(output_shape, activation=\"relu\"),\n",
    "    ]\n",
    ")\n",
    "\n",
    "model.summary()"
   ]
  },
  {
   "cell_type": "code",
   "execution_count": 50,
   "id": "0a3dd954-573e-465e-a73a-26b4b725aec0",
   "metadata": {},
   "outputs": [
    {
     "name": "stdout",
     "output_type": "stream",
     "text": [
      "Epoch 1/10\n",
      "5748/5748 [==============================] - 5s 839us/step - loss: 0.1107 - mean_absolute_error: 0.1107\n",
      "Epoch 2/10\n",
      "5748/5748 [==============================] - 5s 880us/step - loss: 0.1105 - mean_absolute_error: 0.1105 0s - loss: 0.1105 - mean_absolute_er\n",
      "Epoch 3/10\n",
      "5748/5748 [==============================] - 5s 868us/step - loss: 0.1107 - mean_absolute_error: 0.1107 1s - loss\n",
      "Epoch 4/10\n",
      "5748/5748 [==============================] - 5s 835us/step - loss: 0.1113 - mean_absolute_error: 0.1113 0s - loss: 0.1115 - mean_absolu\n",
      "Epoch 5/10\n",
      "5748/5748 [==============================] - 5s 845us/step - loss: 0.1100 - mean_absolute_error: 0.1100\n",
      "Epoch 6/10\n",
      "5748/5748 [==============================] - 5s 838us/step - loss: 0.1093 - mean_absolute_error: 0.1093 1s - loss: 0.1091 - mean_absolute_error: 0. - ETA: 1s - loss: 0.109\n",
      "Epoch 7/10\n",
      "5748/5748 [==============================] - 5s 890us/step - loss: 0.1114 - mean_absolute_error: 0.1114 0s - loss: 0.1114 - mean_absolute_error: \n",
      "Epoch 8/10\n",
      "5748/5748 [==============================] - 5s 906us/step - loss: 0.1106 - mean_absolute_error: 0.1106\n",
      "Epoch 9/10\n",
      "5748/5748 [==============================] - 5s 899us/step - loss: 0.1107 - mean_absolute_error: 0.1107\n",
      "Epoch 10/10\n",
      "5748/5748 [==============================] - 4s 757us/step - loss: 0.1108 - mean_absolute_error: 0.1108 3s - loss: 0.1115 - mean_absolute_error: 0. - ETA: 2s - loss: 0.1116 -  - ETA: 1s - loss: 0.11\n"
     ]
    }
   ],
   "source": [
    "# compile model\n",
    "model.compile(loss=\"mean_squared_error\", optimizer=\"adam\", \\\n",
    "              metrics=[\"mean_absolute_error\"])\n",
    "# fit model\n",
    "history = model.fit(X_train, y_train, epochs=epochs, verbose=1)"
   ]
  },
  {
   "cell_type": "code",
   "execution_count": 52,
   "id": "5d6a5216-69a1-42f9-8a84-017974cf8c79",
   "metadata": {},
   "outputs": [
    {
     "name": "stdout",
     "output_type": "stream",
     "text": [
      "Accuracy of predictions: 88.98%\n"
     ]
    },
    {
     "data": {
      "image/png": "[encoded data removed]",
      "text/plain": [
       "<Figure size 432x288 with 1 Axes>"
      ]
     },
     "metadata": {
      "needs_background": "light"
     },
     "output_type": "display_data"
    }
   ],
   "source": [
    "# predict on test data\n",
    "predictions = model.predict(X_test)\n",
    "#print(predictions)\n",
    "\n",
    "# calculate accuracy\n",
    "acc = accuracy_score(np.round(predictions), y_test)\n",
    "print(f'Accuracy of predictions: {round(acc,4)*100}%')\n",
    "\n",
    "# show loss of training over epochs\n",
    "loss_list = history.history['loss']\n",
    "x = list(np.arange(epochs))\n",
    "plt.plot(x, loss_list)\n",
    "plt.show()"
   ]
  },
  {
   "cell_type": "code",
   "execution_count": 55,
   "id": "7df58f3a-afff-4984-8a08-53ba9fb74f8a",
   "metadata": {},
   "outputs": [
    {
     "ename": "NameError",
     "evalue": "name 'sagemaker' is not defined",
     "output_type": "error",
     "traceback": [
      "\u001b[0;31m---------------------------------------------------------------------------\u001b[0m",
      "\u001b[0;31mNameError\u001b[0m                                 Traceback (most recent call last)",
      "\u001b[0;32m<ipython-input-55-fecc6e8e88d6>\u001b[0m in \u001b[0;36m<module>\u001b[0;34m\u001b[0m\n\u001b[1;32m      3\u001b[0m \u001b[0;34m\u001b[0m\u001b[0m\n\u001b[1;32m      4\u001b[0m \u001b[0;31m#Sagemaker role, make sure you've allowed access to any S3 bucket\u001b[0m\u001b[0;34m\u001b[0m\u001b[0;34m\u001b[0m\u001b[0;34m\u001b[0m\u001b[0m\n\u001b[0;32m----> 5\u001b[0;31m \u001b[0mrole\u001b[0m \u001b[0;34m=\u001b[0m \u001b[0msagemaker\u001b[0m\u001b[0;34m.\u001b[0m\u001b[0mget_execution_role\u001b[0m\u001b[0;34m(\u001b[0m\u001b[0;34m)\u001b[0m\u001b[0;34m\u001b[0m\u001b[0;34m\u001b[0m\u001b[0m\n\u001b[0m\u001b[1;32m      6\u001b[0m \u001b[0mrole\u001b[0m\u001b[0;34m\u001b[0m\u001b[0;34m\u001b[0m\u001b[0m\n",
      "\u001b[0;31mNameError\u001b[0m: name 'sagemaker' is not defined"
     ]
    }
   ],
   "source": [
    "tf_version = tf.__version__\n",
    "tf_version\n",
    "\n",
    "#Sagemaker role, make sure you've allowed access to any S3 bucket\n",
    "role = sagemaker.get_execution_role()\n",
    "role"
   ]
  },
  {
   "cell_type": "code",
   "execution_count": null,
   "id": "ce301ad4-78bf-4250-9f54-45226e293034",
   "metadata": {},
   "outputs": [],
   "source": [
    "from sagemaker.tensorflow import TensorFlow\n",
    "\n",
    "tf_estimator = TensorFlow(entry_point='train.py', \n",
    "                          role=role,\n",
    "                          instance_count=1, \n",
    "                          instance_type='ml.p2.xlarge',\n",
    "                          framework_version=tf_version, \n",
    "                          py_version='py3',\n",
    "                          script_mode=True,\n",
    "                          hyperparameters={\n",
    "                              'epochs': 30\n",
    "                          }\n",
    "                         )"
   ]
  },
  {
   "cell_type": "code",
   "execution_count": null,
   "id": "1daab160-73cb-4d57-93cb-fb4b18975ce1",
   "metadata": {},
   "outputs": [],
   "source": [
    "tf_estimator.fit({'train': training_input_path})"
   ]
  },
  {
   "cell_type": "code",
   "execution_count": null,
   "id": "d36800ea-5e88-4551-8efd-c16e44052387",
   "metadata": {},
   "outputs": [],
   "source": [
    "predictor = estimator.deploy(initial_instance_count = 1, instance_type = 'ml.p2.xlarge')"
   ]
  },
  {
   "cell_type": "code",
   "execution_count": null,
   "id": "d6b2659f-6442-4d87-91f0-3cfb72a21b10",
   "metadata": {},
   "outputs": [],
   "source": [
    "predictions = predictor.predict(X_test)"
   ]
  },
  {
   "cell_type": "code",
   "execution_count": null,
   "id": "95a81692-7339-438c-9583-64637b14f324",
   "metadata": {},
   "outputs": [],
   "source": [
    "acc = accuracy_score(np.round(predictions), y_test)\n",
    "print(f'Accuracy of predictions: {round(acc,4)*100}%')"
   ]
  },
  {
   "cell_type": "markdown",
   "id": "f93b002f-74a4-4a36-9fdb-87f522c3c712",
   "metadata": {},
   "source": [
    "## Comparison of models & Results"
   ]
  },
  {
   "cell_type": "code",
   "execution_count": null,
   "id": "0b432774-6953-4699-b961-0f87c835b919",
   "metadata": {},
   "outputs": [],
   "source": []
  }
 ],
 "metadata": {
  "kernelspec": {
   "display_name": "Python 3",
   "language": "python",
   "name": "python3"
  },
  "language_info": {
   "codemirror_mode": {
    "name": "ipython",
    "version": 3
   },
   "file_extension": ".py",
   "mimetype": "text/x-python",
   "name": "python",
   "nbconvert_exporter": "python",
   "pygments_lexer": "ipython3",
   "version": "3.8.8"
  }
 },
 "nbformat": 4,
 "nbformat_minor": 5
}
